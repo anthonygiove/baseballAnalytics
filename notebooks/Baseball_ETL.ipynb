{
 "cells": [
  {
   "cell_type": "markdown",
   "source": "# <font color=\"red\"> ETL Support </font>\n\n2021-07-11 (Ryan Maley): Began work on ETL support for MADS Capstone.\n",
   "metadata": {
    "tags": [],
    "cell_id": "00000-53901c3e-778c-422f-93ff-bea92d501f1c",
    "deepnote_cell_type": "markdown"
   }
  },
  {
   "cell_type": "markdown",
   "source": "## ETL Code",
   "metadata": {
    "tags": [],
    "cell_id": "00001-3c515bec-f525-4de0-938a-a6deb5ba56f9",
    "deepnote_cell_type": "markdown"
   }
  },
  {
   "cell_type": "code",
   "metadata": {
    "tags": [],
    "deepnote_to_be_reexecuted": false,
    "source_hash": "43db57e5",
    "execution_start": 1626138395259,
    "execution_millis": 124,
    "cell_id": "00002-0884630e-a129-47f8-9a31-1fb014570ebf",
    "deepnote_cell_type": "code"
   },
   "source": "#%% Import the libraries\n\nimport pandas as pd\nimport psycopg2\nfrom sqlalchemy import create_engine\n\nimport os",
   "outputs": [],
   "execution_count": null
  },
  {
   "cell_type": "code",
   "metadata": {
    "tags": [],
    "deepnote_to_be_reexecuted": false,
    "source_hash": "ed034fe1",
    "execution_start": 1626138459030,
    "execution_millis": 1,
    "cell_id": "00003-2e708bd7-76ac-4fe7-ac97-3201555f63df",
    "deepnote_cell_type": "code"
   },
   "source": "def etlAwsConnect():\n    \"\"\"\n    Create connection to AWS RDS PostgreSQL instance using psycopg2.\n\n    Returns\n    -------\n    cur : psycopg2 cursor class\n        Cursor of te connection to the database.\n    conn : psycopg2 connection\n        Used by subsequent functions to query the database.\n\n    \"\"\"\n    ## AWS Postgres credentials for baseball db\n    postgres_login_string = os.environ[\"POSTGRES_LOGIN_STRING\"]\n    engine_login_string = os.environ[\"ENGINE_LOGIN_STRING\"]\n\n    #%% Connect to Postgres\n    sql_connect_string = postgres_login_string\n    conn = psycopg2.connect(sql_connect_string,  connect_timeout=3)\n\n    # Setup the engine\n    engine = create_engine(engine_login_string)\n    conn = engine.raw_connection()\n\n    cur = conn.cursor()\n    return cur, conn\n\ndef awsSqlSample():\n    \"\"\"\n    Get a rendom sample of records from AWS database of umpire as a Pandas dataframe.\n    Hardcoded SQl statement, so primarily used for testing purpsoes.\n\n    Returns\n    -------\n    df_SAMPLE : Pandas dataframe\n        Random sample of database records.\n\n    \"\"\"\n    cur, conn = etlAwsConnect()  # Establish connection to AWS RDS\n    sql_stmnt = \"SELECT * FROM umpire_info WHERE random() < .001\"\n    df_SAMPLE = pd.read_sql_query(sql_stmnt, conn)\n    conn.close()\n    return df_SAMPLE\n\ndef etlGetUmpireList():\n    \"\"\"\n    Queries the umpire table and returns all umpires names in a list.\n\n    Returns\n    -------\n    umpNames : <list>\n        List of umpires names with upire ids in the form 'First Last (umpid)'\n\n    \"\"\"   \n    cur, conn = etlAwsConnect()  # Establish connection to AWS RDS\n\n    # sql_stmnt = \"SELECT umpname, id FROM umpire WHERE ump_debut>='1920-01-01' \"  # ???\n    sql_stmnt = \"SELECT umpname, id FROM umpire\"  # ???\n\n    df = pd.read_sql_query(sql_stmnt, conn)\n    conn.close()\n    df[\"umpString\"] = df[\"umpname\"]+\" (\"+ df[\"id\"]+\")\"\n    umpNames = list(df[\"umpString\"])\n    return umpNames\n\ndef etlSqlToDf(sqlStmnt):\n    \"\"\"\n    Returns results of a SQL query to the AWS database as a Pandas dataframe.\n\n    Parameters\n    ----------\n    sqlStmnt : <str>\n        A SQL query used by Pandas read_sql_query. No validation of string is performed.\n\n    Returns\n    -------\n    df : Pandas dataframe\n        Results of the SQL query in a dataframe\n    \"\"\"\n    cur, conn = etlAwsConnect()  # Establish connection to AWS RDS\n    df = pd.read_sql_query(sqlStmnt, conn)\n    conn.close()\n    return df",
   "outputs": [],
   "execution_count": null
  },
  {
   "cell_type": "code",
   "metadata": {
    "tags": [],
    "deepnote_to_be_reexecuted": false,
    "source_hash": "5f302b0",
    "execution_start": 1626138460602,
    "execution_millis": 936,
    "cell_id": "00004-2382ba0e-3aae-41ba-aee6-e71db4db0a5a",
    "deepnote_cell_type": "code"
   },
   "source": "# Testing\nt = etlGetUmpireList()\nprint(\"Number of Umpires:\", len(t))\nprint(t)\n\numpID = \"herna901\"\nsqlStmnt = \"SELECT * FROM umpire_info WHERE umphome='\" + umpID + \"' or ump1b='\" + umpID + \"' or ump2b='\" + umpID + \"' or ump3b='\" + umpID +\"'\"\ndf = etlSqlToDf(sqlStmnt)\n\ndf",
   "outputs": [
    {
     "name": "stdout",
     "text": "Number of Umpires: 1552\n['Charlie Abbey (abbec101)', 'Fred Abbott (abbof101)', 'Bob Addy (addyb101)', 'Ham Allen (alleh102)', 'Art Allison (allia101)', 'Andy Allison (allia102)', 'Doug Allison (allid101)', 'Nick Altrock (altrn101)', 'Dave Anderson (anded102)', 'Ed Andrews (andre101)', 'Billy Arnold (arnob101)', 'Tug Arundel (arunt101)', 'Bill Baker (bakeb101)', 'Charlie Baker (bakec102)', 'Jersey Bakley (bakej102)', 'Phil Baker (bakep101)', 'Kid Baldwin (baldk101)', 'Mark Baldwin (baldm101)', 'Jimmy Bannon (bannj101)', 'Al Barker (barka101)', 'Tom Barlow (barlt101)', 'Billy Barnie (barnb101)', 'Ross Barnes (barnr102)', 'Bill Barrett (barrb102)', 'Frank Barrows (barrf102)', 'Joe Battin (battj102)', 'Al Bauer (bauea101)', 'George Bausewine (bausg101)', 'Tommy Beals (bealt101)', 'Ollie Beard (bearo101)', 'Ed Beatin (beate101)', 'Buck Becannon (becab101)', 'George Bechtel (bechg101)', 'Erve Beck (becke101)', 'Jake Beckley (beckj103)', 'Fred Beebe (beebf101)', 'Ollie Bejma (bejmo101)', 'Frank Bell (bellf101)', 'Chief Bender (bendc101)', 'Tun Berger (bergt101)', 'Bill Bernhard (bernb101)', 'Charlie Berry (berrc103)', 'Henry Berthrong (berth101)', 'Monte Beville (bevim101)', 'Oscar Bielaski (bielo101)', 'Dave Birdsall (birdd102)', 'Red Bittmann (bittr101)', 'Bob Blakiston (blakb101)', 'Cliff Blankenship (blanc103)', 'Wes Blogg (blogw101)', 'Ossie Bluege (blueo102)', 'Frederick Boardman (boarf101)', 'Tommy Bond (bondt101)', 'Frank Bonner (bonnf101)', 'Amos Booth (boota101)', 'Bill Boyd (boydb101)', 'Henry Boyle (boylh102)', 'Jack Boyle (boylj102)', 'Foghorn Bradley (bradf101)', 'George Bradley (bradg103)', 'Asa Brainard (braia102)', 'Kitty Bransfield (brank101)', 'Theodore Breitenstein (breit101)', 'Jack Brennan (brenj102)', 'Fatty Briody (briof101)', 'Sam Brown (brows103)', 'Tom Brown (browt102)', 'Charlie Buelow (buelc101)', 'Fritz Buelow (buelf101)', 'Charlie Buffinton (buffc101)', 'Josh Bunce (buncj101)', 'Jack Burdock (burdj101)', 'Ken Burkhart (burkk101)', 'Oyster Burns (burno101)', 'Tom Burns (burnt101)', 'Doc Bushong (bushd101)', 'Dick Butler (butld101)', 'Ed Callahan (calle101)', 'Nixey Callahan (calln101)', 'Tom Carey (caret101)', 'John Carney (carnj101)', 'Bill Carrick (carrb102)', 'Fred Carroll (carrf101)', 'Pat Carroll (carrp101)', 'Kid Carsey (carsk102)', 'Bob Caruthers (carub101)', 'Dan Casey (cased103)', 'Ed Caskin (caske101)', 'John Cassidy (cassj103)', 'Ice Box Chamberlain (chame101)', 'Frank Chance (chanf101)', 'Jack Chapman (chapj102)', 'Bobby Clack (clacb101)', 'John Clapp (clapj101)', 'Artie Clarke (clara101)', 'Boileryard Clarke (clarb103)', 'Bob Clark (clarb106)', 'Dad Clarkson (clard102)', 'John Clarkson (clarj102)', 'Jim Clinton (clinj101)', 'John Coleman (colej103)', 'Dan Collins (colld102)', 'Harry Colliflower (collh101)', 'Charlie Comiskey (comic101)', 'Fred Cone (conef101)', 'Jocko Conlan (conlj102)', 'Terry Connell (connt103)', 'Dan Coogan (coogd101)', 'Johnny Cooney (coonj101)', 'Tommy Corcoran (corct101)', 'Bill Coughlin (cougb101)', 'Ed Crane (crane101)', 'Sam Crane (crans101)', 'Bill Craver (cravb101)', 'Morrie Critchley (critm101)', 'Fred Crolius (crolf101)', 'Jack Cronin (cronj102)', 'Lave Cross (crosl101)', 'Monte Cross (crosm101)', 'Billy Crowell (crowb102)', 'Jim Cudworth (cudwj101)', 'Dick Culler (culld101)', 'Bert Cunningham (cunnb103)', 'Nig Cuppy (cuppn101)', 'John Curran (currp102)', 'Wes Curry (currw101)', 'Andy Cusick (cusit101)', 'Ned Cuthbert (cuthn101)', 'Con Daily (dailc101)', 'John Dailey (dailj101)', 'Tom Daly (dalyt101)', 'Law Daniels (danil101)', 'Dell Darling (darld101)', 'Harry Davis (davih101)', 'Jumbo Davis (davij101)', 'Pat Dealy (dealp101)', 'Harry Deane (deanh101)', 'Herman Dehlman (dehlh101)', 'Charlie Dexter (dextc101)', 'Bill Dinneen (dinnb101)', 'Tom Dolan (dolat101)', 'Jim Donahue (donaj104)', 'Red Donahue (donar101)', 'Tim Donahue (donat101)', 'Mike Donlin (donlm101)', 'Jim Donnelly (donnj101)', 'Bill Donovan (donob101)', 'Red Dooin (dooir101)', 'Herm Doscher (dosch101)', 'Klondike Douglass (dougk101)', 'Clarence Dow (dow-c101)', 'Tom Dowse (dowst101)', 'Jack Doyle (doylj103)', 'Lew Drill (drill101)', 'Ed Dugan (dugae101)', 'Bill Duggleby (duggb101)', 'Martin Duke (dukem101)', 'Fred Dunlap (dunlf101)', 'Frank Dwyer (dwyef101)', 'John Dyler (dylej101)', 'Billy Earle (earlb101)', 'Mal Eason (easom101)', 'Jack Easton (eastj101)', 'Jack Egan (eganr101)', 'Red Ehret (ehrer101)', 'Joe Ellick (ellij104)', 'Bob Emslie (emslb101)', 'Jake Evans (evanj102)', 'Buck Ewing (ewinb101)', 'John Ewing (ewinj101)', 'Anton Falch (falca101)', 'Duke Farrell (farrd102)', 'Bob Ferguson (fergb101)', 'Charlie Ferguson (fergc101)', 'Charlie Ferguson (fergc102)', 'Cherokee Fisher (fishc102)', 'Freddie Fitzsimmons (fitzf101)', 'Martin Flaherty (flahm101)', 'Patsy Flaherty (flahp101)', 'Jocko Flynn (flynj103)', 'Tom Foley (folet101)', 'Davy Force (forcd101)', 'Brownie Foreman (foreb101)', 'Frank Foreman (foref101)', 'Pop Foster (fostp101)', 'Bill Fouser (fousb101)', 'Buck Freeman (freeb102)', 'Bill Friel (frieb103)', 'Chris Fulmer (fulmc101)', 'Chick Fulmer (fulmc102)', 'Pud Galvin (galvj103)', 'Charlie Ganzel (ganzc101)', 'Jim Gardner (gardj101)', 'Billy Geer (geerb101)', 'Billy George (georb101)', 'Joe Gerhardt (gerhj101)', 'Les German (germl101)', 'Pretzels Getzien (getzp101)', 'Bill Gleason (gleab102)', 'Jack Gleason (gleaj102)', 'Kid Gleason (gleak101)', 'John Glenn (glenj102)', 'Fred Goldsmith (goldf101)', 'Walt Goldsby (goldw102)', 'Tom Gorman (gormt101)', 'Charlie Gould (goulc101)', 'Mike Grady (gradm101)', 'Frank Graves (gravf101)', 'Bill Greenwood (greeb102)', 'Clark Griffith (grifc101)', 'John Grim (grimj101)', 'Bob Groom (groob101)', 'Emil Gross (grose101)', 'Henry Gruber (grubh101)', 'Ben Guiney (guinb102)', 'Ad Gumbert (gumba101)', 'Tom Gunning (gunnt101)', 'Joe Gunson (gunsj101)', 'Mert Hackett (hackm101)', 'George Haddock (haddg101)', 'Bill Hallman (hallb101)', 'George Hall (hallg101)', 'Jim Hall (hallj103)', 'Ned Hanlon (hanln101)', 'Lou Hardie (hardl102)', 'Joe Harris (harrj102)', 'Bill Hart (hartb106)', 'Grover Hartley (hartg102)', 'Scott Hastings (hasts101)', 'Gil Hatfield (hatfg101)', 'John Hatfield (hatfj101)', 'Charlie Hautz (hautc101)', 'Bill Hawes (haweb101)', 'Egyptian Healy (heale101)', 'Guy Hecker (heckg101)', 'George Hemming (hemmg101)', 'Hardie Henderson (hendh102)', 'Moxie Hengel (hengm101)', 'Butch Henline (henlb101)', 'Joseph Herr (herre101)', 'George Heubel (heubg101)', 'Charlie Hickman (hickc101)', 'Nat Hicks (hickn101)', 'Bill Higgins (higgb101)', 'Dick Higham (highd101)', 'George Hildebrand (hildg101)', 'Mike Hines (hinem101)', 'Charlie Hodes (hodec101)', 'Bill Hoffer (hoffb102)', 'Mortimer Hogan (hogam102)', 'George Hogriever (hogrg101)', 'Bill Holbert (holbb101)', 'Bug Holliday (hollb103)', 'Ducky Holmes (holmd102)', 'Mike Hooper (hoopm101)', 'Joe Hornung (hornm101)', 'Harry Howell (howeh101)', 'Shorty Howe (howes101)', 'Dan Howley (howld101)', 'Ham Hyatt (hyath101)', 'Arthur Irwin (irwia101)', 'John Irwin (irwij101)', 'Fred Jacklitsch (jackf101)', 'Alamazoo Jennings (jenna101)', 'Hughie Jennings (jennh101)', 'Syl Johnson (johns101)', 'Charley Jones (jonec104)', 'Henry Jones (joneh104)', 'Mike Kahoe (kahom101)', 'Ed Karger (karge101)', 'Tim Keefe (keeft101)', 'Willie Keeler (keelw101)', 'Jim Keenan (keenj104)', 'George Keerl (keerg101)', 'John Kelly (kellj103)', 'King Kelly (kellk101)', 'Kick Kelly (kellk102)', 'Win Kellum (kellw102)', 'Doc Kennedy (kennd101)', 'John Kenney (kennj102)', 'Ted Kennedy (kennt101)', 'John Kerins (kerij101)', 'Frank Killen (killf101)', 'Matt Kilroy (kilrm102)', 'Tom Kinslow (kinst101)', 'John Kirby (kirbj101)', 'Frank Kitson (kitsf101)', 'Malachi Kittridge (kittm101)', 'Chuck Klein (kleic101)', 'Bill Kling (klinb102)', 'Johnny Kling (klinj101)', 'Billy Klusman (klusb101)', 'Phil Knell (knelp101)', 'George Knight (knigg101)', 'Lon Knight (knigl101)', 'Jimmy Knowles (knowj101)', 'Henry Kohler (kohlh101)', 'Bill Krieg (krieb101)', 'Bill Kunkel (kunkb101)', 'Arlie Latham (latha101)', 'Jumbo Latham (lathj101)', 'Ben Laughlin (laugb101)', 'Mike Lawlor (lawlm101)', 'Tom Leahy (leaht101)', 'Tom Lee (lee-t102)', 'Sam Leever (leevs101)', 'Bill Lennon (lennb101)', 'Andy Leonard (leona101)', 'Don Leppert (leppd101)', 'Charlie Levis (levic101)', 'Steve Libby (libbs101)', 'Vive Lindaman (lindv101)', 'Harry Little (litth101)', 'Herman Long (longh101)', 'Bobby Lowe (loweb101)', 'Carl Lundgren (lundc101)', 'Jack Lynch (lyncj101)', 'Toby Lyons (lyont101)', 'John Lyston (lystb101)', 'Harry Mace (macej101)', 'Denny Mack (mackd101)', 'Jimmy Macullar (macuj101)', 'Kid Madden (maddk101)', 'Sherry Magee (mages101)', 'John Magner (magnj102)', 'Billy Maloney (malob101)', 'Fergy Malone (malof101)', 'Jack Manning (mannj101)', 'Jim Manning (mannj102)', 'Firpo Marberry (marbf101)', 'Phonney Martin (martp104)', 'Charlie Mason (masoc101)', 'Bobby Mathews (mathb101)', 'Christy Mathewson (mathc102)', 'Mike Mattimore (mattm101)', 'Bert Maxwell (maxwb101)', 'Ed Mayer (mayee103)', 'Al Mays (maysa101)', 'Jimmy McAleer (mcalj102)', 'Sport McAllister (mcals101)', 'Al McCauley (mccaa101)', 'Harry McCaffery (mccah101)', 'John McCarthy (mccaj103)', 'Pat McCauley (mccap101)', 'Tommy McCarthy (mccat103)', 'Barry McCormick (mccob104)', 'Jerry McCormick (mccoj101)', 'Jim McCormick (mccoj103)', 'Sandy McDermott (mcdes101)', 'Jim McDonald (mcdoj105)', 'Ed McFarland (mcfae101)', 'Chippy McGarr (mcgac101)', 'Mike McGeary (mcgem101)', 'Pat McGee (mcgep102)', 'Joe McGinnity (mcgij101)', 'Jumbo McGinnis (mcgij102)', 'Bill McGunnigle (mcgub101)', 'Deacon McGuire (mcgud101)', 'Russ McKelvy (mcker102)', 'Alex McKinnon (mckia101)', 'William McLaughlin (mclaj104)', 'Sadie McMahon (mcmas101)', 'John McMullin (mcmuj101)', 'Mart McQuaid (mcqum102)', 'Trick McSorley (mcsot101)', 'Cal McVey (mcvec101)', 'Jouett Meekin (meekj101)', 'Dave Melton (meltd101)', 'Jock Menefee (menej101)', 'Win Mercer (mercw101)', 'Ed Merrill (merre101)', 'Sam Mertes (merts101)', 'Charlie Mills (millc104)', 'Cyclone Miller (millc105)', 'Doggie Miller (milld103)', 'George Miller (millg101)', 'Joe Miller (millj101)', 'Jocko Milligan (millj108)', 'Otto Miller (millo103)', 'Ed Mincher (mince101)', 'Earl Moore (moore103)', 'Charlie Moran (morac102)', 'Pat Moran (morap101)', 'Bill Morgan (morgb101)', 'George Moriarty (morig101)', 'Ed Morris (morre101)', 'John Morrill (morrj107)', 'Charlie Morton (mortc101)', 'Frank Mountain (mounf101)', 'Tony Mullane (mullt101)', 'Joe Mulvey (mulvj101)', 'Tim Murnane (murnt101)', 'Joe Murphy (murpj101)', 'Morgan Murphy (murpm101)', 'Yale Murphy (murpy101)', 'Miah Murray (murrm101)', 'George Myers (myerg101)', 'Billy Nash (nashb101)', 'Tom Needham (needt101)', 'Candy Nelson (nelsc101)', 'Bobo Newsom (newsb101)', 'Doc Newton (newtd101)', 'Kid Nichols (nichk101)', 'Hugh Nicol (nicoh101)', 'The Only Nolan (nolae101)', 'Pete Noonan (noonp101)', 'Frank Norton (nortf101)', 'Henry Oberbeck (oberh101)', \"Darby O'Brien (obrid103)\", \"Pete O'Brien (obrip102)\", \"Jack O'Connor (oconj104)\", \"Hank O'Day (odayh101)\", \"Dan O'Leary (olead101)\", \"Mike O'Neill (oneim101)\", \"Jim O'Rourke (orouj103)\", 'Dave Orr (orr-d101)', 'Al Orth (ortha101)', 'Orval Overall (overo101)', 'Charlie Pabor (paboc101)', 'Bill Parks (parkb101)', 'Doc Parker (parkd102)', 'Casey Patten (pattc101)', 'Tom Patterson (pattd103)', 'Dickey Pearce (peard102)', 'Frank Pears (pearf102)', 'Heinie Peitz (peith101)', 'Barney Pelty (peltb101)', 'Jimmy Peoples (peopj101)', 'Fred Pfeffer (pfeff101)', 'Ed Phelps (phele101)', 'Nealy Phelps (pheln101)', 'Deacon Phillippe (phild101)', 'Gracie Pierce (pierg101)', 'Israel Pike (pikej102)', 'Lip Pike (pikel101)', 'Babe Pinelli (pineb101)', 'George Pipgras (pipgg101)', 'Doc Powers (powem102)', 'Phil Powers (powep101)', 'Al Pratt (prata101)', 'Tom Pratt (pratt101)', 'Joe Quest (quesj101)', 'Joe Quinn (quinj103)', 'Joseph Quinn (quinp101)', 'Paddy Quinn (quinp103)', 'John Radcliff (radcj101)', 'Al Reach (reaca101)', 'Hugh Reid (reedh101)', 'Icicle Reeder (reedi101)', 'Billy Reid (reidb102)', 'Charlie Reilly (reilc102)', 'Charlie Reising (reisc101)', 'Heinie Reitz (reith101)', 'Jack Remsen (remsj101)', 'Billy Rhines (rhinb101)', 'Hardy Richardson (richh101)', 'Lee Richmond (richl104)', 'Billy Riley (rileb101)', 'Val Robinson (robiv101)', 'Wilbert Robinson (robiw101)', 'Adam Rocap (rocaa101)', 'Eddie Rommel (romme101)', 'Frank Roth (rothf101)', 'Jack Rowe (rowej101)', 'Jimmy Ryan (ryanj105)', 'Johnny Ryan (ryanj106)', 'Harry Sage (sageh101)', 'Ben Sanders (sandb101)', 'Lou Say (say-l101)', 'Harry Schafer (schah101)', 'Boss Schmidt (schmb102)', 'Billy Smith (schmb104)', 'Henry Schmidt (schmh101)', 'Osee Schrecongost (schro101)', 'Pop Schriver (schrp101)', 'Jim Scott (scotj104)', 'Frank Secory (secof101)', 'Frank Sellman (selmf101)', 'Count Sensenderfer (sensc101)', 'Paul Sentell (sentp101)', 'Billy Serad (serab101)', 'Ed Seward (sewae101)', 'George Seward (sewag101)', 'Spike Shannon (shans101)', 'Ed Siever (sieve101)', 'Joe Simmons (simmj101)', 'Al Skinner (skina101)', 'Edgar Smith (smite101)', 'Edward Smith (smite109)', 'Fred Smith (smitf101)', 'Harry Smith (smith104)', 'Heinie Smith (smith110)', 'Pop Smith (smitp101)', 'Phenomenal Smith (smitp106)', 'Vinnie Smith (smitv101)', 'John Sneed (sneej101)', 'Pop Snyder (snydp101)', 'Joe Sommer (sommj101)', 'Andy Sommers (sommp101)', 'Charlie Sprague (sprac101)', 'Eddie Stack (stace101)', 'Harry Staley (stalh101)', 'Bill Stearns (steab101)', 'Dan Stearns (stead101)', 'Ed Stein (steie101)', 'Harry Steinfeldt (steih101)', 'Gat Stires (stirg101)', 'Jack Stivetts (stivj101)', 'Otis Stocksdale (stoco101)', 'Cub Stricker (stric101)', 'Elmer Stricklett (strie101)', 'George Strief (strig101)', 'Joe Sugden (sugdj101)', 'Jim Sullivan (sullj109)', 'Mike Sullivan (sullm101)', 'Marty Sullivan (sullm103)', 'Sleeper Sullivan (sulls101)', 'Ted Sullivan (sullt101)', 'Sy Sutcliffe (sutcs101)', 'Ezra Sutton (sutte101)', 'Marty Swandell (swanm101)', 'Ed Swartwood (sware101)', 'Charlie Sweasy (sweac101)', 'Charlie Sweeney (sweec101)', 'Lou Sylvester (sylvl101)', 'Jesse Tannehill (tannj101)', 'Pop Tate (tatep101)', 'Jack Taylor (taylj101)', 'Jack Taylor (taylj102)', 'John Tener (tenej101)', 'Adonis Terry (terra101)', 'Mike Tiernan (tierm101)', 'Steve Toole (tools101)', 'George Townsend (towng101)', 'Bill Traffley (trafb101)', 'Fred Treacey (treaf101)', 'Harry Truby (trubh101)', 'Larry Twitchell (twitl101)', 'John Valentine (valej101)', 'Farmer Vaughn (vaugf101)', 'Lee Viau (viaul101)', 'Tom Vickery (vickt101)', 'Tom Walker (walkt102)', 'Bobby Wallace (wallb101)', 'Joe Wall (wallj105)', 'Ed Walsh (walse101)', 'Bucky Walters (waltb102)', 'Monte Ward (wardm101)', 'Jack Warner (warnj103)', 'Lon Warneke (warnl101)', 'Fred Waterman (watef102)', 'Farmer Weaver (weavf102)', 'Jake Weimer (weimj101)', 'Mickey Welch (welcm102)', 'Buck West (westb102)', 'Gus Weyhing (weyhg101)', 'Harry Wheeler (wheeh101)', 'Lew Whistler (whisl102)', 'Deacon White (whitd102)', 'Doc White (whitd104)', 'Jim Whitney (whitj102)', 'Warren White (whitw102)', 'Will White (whitw103)', 'Stump Weidman (wieds101)', 'Kaiser Wilhelm (wilhk101)', 'Dale Williams (willd106)', 'Ned Williamson (willn102)', 'Vic Willis (willv101)', 'Walt Wilmot (wilmw101)', 'Bill Wilson (wilsb102)', 'Jimmie Wilson (wilsj105)', 'Parke Wilson (wilsp102)', 'Zeke Wilson (wilsz101)', 'George Winter (wintg101)', 'Sam Wise (wises101)', 'Chicken Wolf (wolfc102)', 'George Wood (woodg104)', 'Jimmy Wood (woodj106)', 'Herb Worth (worth101)', 'Harry Wright (wrigh101)', 'George Yeager (yeagg101)', 'Tom York (yorkt101)', 'Cy Young (younc102)', 'Irv Young (youni101)', 'Chief Zimmer (zimmc101)', 'Jerry Zimmerman (zimmj101)', 'Al Buckenberger (bucka801)', 'Watch Burnham (burnw801)', 'Ormond Butler (butlo801)', 'Joe Cantillon (cantj801)', 'Charlie Cushman (cushc801)', 'Wally Fessenden (fessw801)', 'John Gaffney (gaffj801)', 'Jim Gifford (giffj801)', 'Ed Hengel (henge801)', 'Tim Hurst (hurst801)', 'Horace Phillips (philh801)', 'Pants Rowland (rowlp801)', 'Mike Walsh (walsm801)', 'Nick Young (younn801)', 'Clarence Adams (adamc901)', 'Harry Adams (adamj901)', 'Ryan Additon (addir901)', nan, 'Dave Alston (alstd901)', 'Andy Anderson (andea901)', 'Ollie Anderson (andeo901)', 'Bill Andress (andrb901)', 'Bill Annan (annaw901)', 'Merle Anthony (anthm901)', 'Mark Arata (aratm901)', 'Ramon Armendariz (armer901)', 'Frank Arnold (arnof901)', 'Dave Aschwege (aschd901)', 'Emmett Ashford (ashfe901)', 'Ed Austin (auste901)', 'Nick Avants (avann901)', 'Ham Avery (averh901)', 'A.D. Ayers (ayeru901)', 'John Bacon (bacoj901)', 'John Baird (bairj901)', 'Charles Baker (bakec901)', 'Jordan Baker (bakej902)', 'Frank Ballina (ballf901)', 'Lee Ballanfant (balll901)', 'Sean Barber (barbs901)', 'Lance Barksdale (barkl901)', 'Al Barlick (barla901)', 'George Barnum (barng901)', 'Larry Barnett (barnl901)', 'Ron Barnes (barnr901)', 'Dan Barry (barrd901)', 'George Barr (barrg901)', 'Jim Barron (barrj901)', 'Lance Barrett (barrl901)', 'Mark Barron (barrm901)', 'Scott Barry (barrs901)', 'Ted Barrett (barrt901)', 'Mike Barston (barsm901)', 'Steve Basil (basis901)', 'Toby Basner (basnt901)', 'Jack Baswell (baswj901)', 'Damien Beal (beald901)', 'Ed Bean (beane901)', 'John Beardsley (bearj901)', 'Billy Becannon (becaw901)', 'Bob Beck (beckb901)', 'W.S. Beebe (beebw901)', 'Frank Behle (behlf901)', 'Dan Bellino (belld901)', 'Wally Bell (bellw901)', 'Joe Bendekovits (bendj901)', 'Jack Bennett (bennj901)', 'Frederick Berger (bergf901)', 'Ralph Betcher (betcr901)', 'William Betts (bettw901)', 'Larry Bialorucki (biall901)', 'Jon Bible (biblj901)', 'Bits Bierhalter (bierb901)', 'W.J. Bigelow (bigew901)', 'Homer Bishop (bishh901)', 'William Blair (blaiw901)', 'Ryan Blakney (blakr901)', 'Fred Blandford (blanf901)', 'Cory Blaser (blasc901)', 'William Blodgett (blodc901)', 'Ed Bloom (bloou901)', 'John Boake (boakj901)', 'Dusty Boggess (boggd901)', 'Matt Bohn (bohnm901)', 'Charles Boles (bolec901)', 'Theo Bomeisler (bomet901)', 'Greg Bonin (bonig901)', 'Nicholas Bouse (bonsn901)', 'Steve Borga (borgs901)', 'Terry Bovey (bovet901)', 'Jim Boyer (boyej901)', 'Jackson Brady (bradj901)', nan, 'A.C. Bredberg (bredg901)', 'Nick Bremigan (bremn901)', 'Bill Brennan (brenb901)', 'Jack Brennan (brenj901)', 'Warren Briggs (brigw901)', 'Joe Brinkman (brinj901)', 'Mike Briscese (brism901)', 'Fred Brocklander (brocf901)', 'John Brockway (brocj901)', 'Bud Brown (browb901)', 'Doug Brown (browd901)', 'Jeff Brown (browj901)', 'J. Brown (browj902)', 'William Brown (broww901)', 'David Bruce (brucd901)', 'Randy Bruns (brunr901)', 'William Buchanan (buchw901)', 'CB Bucknor (buckc901)', 'Seth Buckminster (bucks901)', 'William Buck (buckw901)', 'Charles Bullymore (bullc901)', 'Fred Bunce (buncf901)', 'H.C. Bunce (bunch901)', 'Ike Van Burkalow (burki901)', 'Frank Burlingame (burlf901)', 'John Burns (burnj901)', 'Walter Byrne (burnu901)', 'Warren Burtis (burtl901)', 'Archie Bush (busha901)', 'Garnet Bush (bushg901)', 'Nathan Butler (butlc901)', 'Jon Byrne (byrnj902)', 'Lord Byron (byrol901)', 'Angel Campos (campa902)', 'Bick Campbell (campb901)', 'Bob Campbell (campb902)', 'Dan Campbell (campd901)', 'Frank Campagna (campf901)', 'Joe Caraco (caraj901)', 'Vic Carapazza (carav901)', 'Billy Carlin (carlb901)', 'Mark Carlson (carlm901)', 'Red Carney (carnr901)', 'Bill Carpenter (carpb901)', 'John Carpenter (carpj901)', 'Sam Carrigan (carrh901)', 'Kevin Causey (causk901)', 'Harry Cavanaugh (cavah901)', 'Dick Cavenaugh (caved901)', 'Gary Cederstrom (cedeg901)', 'Moses Chandler (chanm901)', 'John Cheppu (chepj901)', 'Ollie Chill (chilo901)', 'Harry Chipman (chiph901)', 'Nestor Chylak (chyln901)', 'Al Clark (clara901)', 'Bob Clarke (clarb901)', 'Dick Clegg (clegd901)', 'Curly Clement (clemb901)', 'Drew Coble (cobld901)', 'George Cockill (cockg901)', 'Al Cohen (cohea901)', 'George Gohen (coheg901)', nan, 'Harry Colgan (colgh901)', 'Delfin Colon (colod901)', 'Nick Colosi (colon901)', 'Craig Compton (compc901)', 'Ed Conahan (conau901)', 'Red Connolly (connj902)', 'Pat Connors (connp901)', 'Tommy Connolly (connt901)', 'Tom Connor (connt902)', 'Jack Conn (connu901)', nan, 'Chris Conroy (conrc901)', 'Alan Contant (conta901)', 'John Conway (conwj901)', 'Rob Cook (cookr901)', 'R.F. Cook (cookw901)', 'Terry Cooney (coont901)', 'Eric Cooper (coope901)', 'Elias Cope (copee901)', 'Doug Cossey (cossd901)', 'Perry Costello (costp901)', 'Emilien Cote (cotee901)', 'Derryl Cousins (cousd901)', 'Terry Craft (craft901)', 'Robert Crandall (cranr901)', 'Alexander Crawford (crawa901)', 'Jerry Crawford (crawj901)', 'Shag Crawford (craws901)', 'P.C. Cray (crayp901)', 'Ed Creighton (creiu901)', 'Randy Christal (crisr901)', 'John Cross (crosj901)', 'Fieldin Culbreth (culbf901)', 'Jim Cuneo (cunej901)', 'Frank Curry (currf901)', 'Steve Cusack (cusas901)', 'Phil Cuzzi (cuzzp901)', 'Jerry Dale (dalej901)', 'Charles Daniels (danic901)', 'Kerwin Danley (danlk901)', 'Gary Darling (darlg901)', 'Frank Dascoli (dascf901)', 'Thomas Daubney (daubt901)', 'Bill Davis (davib901)', 'Bob Davidson (davib902)', 'Bob Davis (davib903)', 'Dale Davidson (david901)', 'Gerry Davis (davig901)', 'L.N. David (davil901)', 'Satch Davidson (davis901)', 'Mort Dawson (dawsm901)', 'Stewart Decker (decks901)', 'Bill Deegan (deegb901)', 'Pete DeFlesco (deflp901)', 'Ramon De Jesus (dejer901)', 'Dusty Dellinger (delld901)', 'Vic Delmore (delmv901)', 'D.P. Demorest (demod901)', 'Dana DeMuth (demud901)', 'Shan Deniston (denis901)', 'Don Denkinger (denkd901)', 'Richard Denny (dennr901)', 'Doll Derr (derrd901)', 'Dan Devinney (devid901)', 'Jim Devine (devij901)', 'Charlie Devlin (devlc901)', 'Frank Dezelan (dezef901)', 'Laz Diaz (diazl901)', 'Roger Dierking (dierr901)', 'Lou DiMuro (dimul901)', 'Mike DiMuro (dimum901)', 'Ray DiMuro (dimur901)', 'Hal Dixon (dixoh901)', 'Henry Dobson (dobsh901)', 'W.C. Dole (dolew901)', 'Augie Donatelli (donaa901)', 'Charles Donnelly (donnc901)', 'Michael Donohue (donom901)', 'Timothy Donovan (donot901)', 'T.E. Dornlach (dornd901)', 'Adam Dowdy (dowda901)', 'Rob Drake (drakr901)', 'Doc Draper (drapj901)', 'Bruce Dreckman (drecb901)', 'Roy Dreke (drekr901)', 'Al Dresser (dresa901)', 'Joe Driscoll (drisj901)', 'Cal Drummond (drumc901)', 'Ed Ducharme (duchu901)', 'Jim Duffy (duffj901)', 'Dennis Duncan (duncr901)', 'Hugh Dunlevy (dunlh901)', 'Jim Dunne (dunnj901)', 'Joe Donnegan (dunnj902)', 'Tom Dunn (dunnt901)', 'Peter Durfee (durfp901)', 'Patrick Dutton (duttp901)', 'John Eagan (eagaj901)', 'Harold Easley (easlh901)', 'Doug Eddings (eddid901)', 'Larry Edwards (edwal901)', 'Clarence Eldridge (eldrc901)', 'William Ellis (elliw901)', 'Paul Emmel (emmep901)', 'Bob Engel (engeb901)', 'Bill Engeln (engeb902)', 'John English (englj901)', 'Fred Erby (erbyf901)', 'George Eshelman (esheg901)', 'Mike Estabrook (estam901)', 'Billy Evans (evanb901)', 'George Evans (evang901)', 'Jim Evans (evanj901)', 'Jeff Evans (evanj902)', 'Mike Everitt (everm901)', 'Clint Fagan (fagac901)', 'Chad Fairchild (fairc901)', 'Mike Farmer (farmm901)', 'Harry Farnsworth (farnh901)', 'Dick Feaser (feasd901)', 'T.E. Fellows (fellt901)', nan, 'Norman Fenno (fennn901)', 'Mike Fichter (fichm901)', 'Jerry Fick (fickj901)', 'Steve Fields (fiels901)', 'Bill Finneran (finnw901)', 'Frank Fisher (fishf901)', 'Mike Fitzpatrick (fitzm901)', 'Red Flaherty (flahr901)', 'Tom Fleming (flemt901)', 'Andy Fletcher (fleta901)', 'John Floras (florj901)', 'Bill Follmer (follb901)', 'Dale Ford (fordd901)', 'Wade Ford (fordw901)', 'Al Forman (forma901)', 'Marty Foster (fostm901)', 'Edward Fountain (foune901)', 'Henry Fountain (founh901)', 'Gene Fowler (fowlg901)', 'Wheeler Fowler (fowlw901)', 'Art Frantz (frana901)', 'Ralph Frary (frarr901)', 'Bob Freels (freeb901)', 'Todd Freese (freet901)', 'Bruce Froemming (froeb901)', 'Grover Froese (froeg901)', 'Lester Fuchs (fuchl901)', 'Joseph Fugere (fugej901)', 'Troy Fullwood (fullt901)', 'Tyler Funneman (funnt901)', 'Bill Furlong (furlb901)', 'Lu Fyfe (fyfel901)', 'Larry Gallagher (galll901)', 'Rich Garcia (garcr901)', 'Jim Garman (garmj901)', 'Charles Garrigan (garrc901)', 'Harry Geisel (geish901)', 'Ed George (geore901)', 'Bob Giard (giarb901)', 'Brian Gibbons (gibbb901)', 'Greg Gibson (gibsg901)', 'Tripp Gibson (gibsh902)', 'Tommy Gill (gillt901)', 'Tom Gillean (gillt902)', 'Tony Gisondi (gisot901)', 'Frank Glover (glovf901)', 'Ed Goeckel (goece901)', 'Larry Goetz (goetl901)', 'Russ Goetz (goetr901)', 'Manny Gonzalez (gonzm901)', 'Cheever Goodwin (goodc901)', 'Artie Gore (gorea901)', 'Brian Gorman (gormb901)', 'Jeff Gosney (gosnj901)', 'J.S. Graham (grahj901)', 'Scott Graham (grahs901)', 'Eric Gregg (grege901)', 'Bill Grieve (grieb901)', 'E.A. Griffith (grife901)', 'John Grimsley (grimj901)', 'Scott Grinder (grins901)', 'Roger Grooms (groor901)', 'George Grygiel (grygg901)', 'Chris Guccione (guccc901)', 'Elmer Guckert (gucke901)', 'Augie Guglielmo (gugla901)', 'Dave Gustafson (gustd901)', 'Bill Guthrie (guthb901)', 'Merrill Hadry (hadrm901)', 'Bill Hafner (hafnb901)', 'Al Halbach (halba901)', 'Eddie Haley (halee901)', 'Bill Haller (hallb901)', 'Samuel Hall (halls901)', 'Tom Hallion (hallt901)', 'Adam Hamari (hamaa901)', 'Ray Hamil (hamir901)', 'Dr. Hanna (hannd901)', 'Howard Hansen (hansh901)', 'Bob Hantak (hantb901)', 'Lanny Harris (harrl901)', 'Pete Harrison (harrp901)', 'Vance Harris (harrv901)', 'Bob Hart (hartb901)', 'Isaac Hartenstein (harti901)', 'Jack Hartley (hartj901)', 'Doug Harvey (harvd901)', 'Randy Harvey (harvr901)', 'Jack Haskell (haskj901)', 'James Hassett (hassj901)', 'Hicks Hayhurst (hayhh901)', 'J.H. Haynie (haynj901)', 'Marvin Hecht (hechm901)', 'Doctor Hegeman (hegew901)', 'Dick Heitzer (heitd901)', 'Hugo Helburn (helbh901)', 'J. Helm (helmj901)', 'Ted Hendry (hendt901)', 'Bill Henry (henrb901)', 'Jeff Henrichs (henrj901)', 'Angel Hernandez (herna901)', 'Bob Hernandez (hernb901)', 'Fred Herndon (hernf901)', 'W.E. Herrin (herrw901)', 'John Heydler (heydj901)', 'Ed Hickox (hicke901)', 'James Hickey (hickj901)', 'John Higgins (higgj901)', 'Scott Higgins (higgs901)', 'John Hirschbeck (hirsj901)', 'Mark Hirschbeck (hirsm901)', 'Will Hoagland (hoagw901)', 'Pat Hoberg (hobep901)', 'Amory Hodges (hodga902)', 'Morris Hodges (hodgm901)', 'Bill Hohn (hohnb901)', 'Sam Holbrook (holbs901)', 'Jack Holland (hollj901)', 'Matt Hollowell (hollm901)', 'Sam Holley (holls901)', 'Mike Holoka (holom901)', 'Bob Homolka (homob901)', 'Jim Honochick (honoj901)', 'S.A. Hosworth (hoswu901)', 'Pliny Hough (hougp901)', 'C.F. Howard (howac901)', 'Charles Howard (howac902)', 'James Hoye (hoyej901)', 'Cal Hubbard (hubbc901)', 'Mike Huber (hubem901)', 'Marvin Hudson (hudsm901)', 'Vincent Hudson (hudsv901)', 'Rich Humphrey (humpr901)', 'John Hunt (huntj901)', 'Michael Hurley (hurld901)', 'Eddie Hurley (hurle901)', 'George Hurll (hurlg901)', 'Ron Hutson (hutsr901)', 'Dan Iassogna (iassd901)', nan, 'Bill Ivory (ivorb901)', 'Bill Jackowski (jackb901)', 'Charles Jackson (jackc901)', 'Dick Jackson (jackd901)', 'Johnny James (jamej901)', 'Don January (janud901)', 'Ron Jeffers (jeffr901)', 'W. W. Jeffers (jeffw901)', 'Jeff Jenkins (jenkj901)', 'Andrew Jennings (jenna901)', 'Fred Jevne (jevnf901)', 'Adrian Johnson (johna901)', 'A.J. Johnson (johna907)', 'Charles Johnston (johnc901)', 'Jim Johnstone (johnj901)', 'Mark Johnson (johnm901)', 'Steamboat Johnson (johns901)', 'Richard Johns (johnw901)', 'Bob Jones (joneb901)', 'Jim Jones (jonej901)', 'Red Jones (joner901)', 'Bill Jordan (jordb901)', 'Harold Jordan (jordh901)', 'Lou Jorda (jordl901)', 'Victor Jose (joseu901)', 'Mike Jost (jostm901)', 'C.E. Joyce (joycc901)', 'Jim Joyce (joycj901)', 'Joseph Julian (julij901)', 'Howard Jumper (jumph901)', 'S.L. Kahn (kahns901)', 'Ken Kaiser (kaisk901)', 'Steve Kane (kanes901)', 'Al Kaplan (kapla901)', 'Travis Katzenmeier (katzt901)', 'Joe Kavulich (kavuj901)', 'Wayne Keister (keisw901)', 'Gene Kelly (kellg901)', 'Jeff Kellogg (kellj901)', 'J.P. Kelley (kellj902)', 'Kevin Kelley (kellk901)', 'Toss Kelly (kellt901)', 'W.W. Kelley (kellw901)', 'Charles Kennedy (kennc901)', 'John Kent (kentj901)', 'John Kerin (kerij901)', 'John Kibler (kiblj901)', 'Shawn Kimball (kimbs901)', 'Charles King (kingc901)', 'Bill Kinnamon (kinnb901)', 'Eden Kipp (kippe901)', 'Ken Kirby (kirbk901)', 'Gus Klein (kleig901)', 'Barney Kleinbacher (kleiu901)', 'Bill Klem (klemb901)', 'Justin Klemm (klemj901)', 'Jim Knauss (knauj901)', 'Brian Knight (knigb901)', 'Lou Kolls (kolll901)', 'Greg Kosc (koscg901)', 'Ron Kulpa (kulpr901)', 'Bud Lally (lallb901)', 'Harry Lamb (lambh901)', 'Jim Lambeth (lambj901)', 'Ian Lamplugh (lampi901)', 'Stan Landes (lands901)', 'Frank Lane (lanef901)', 'Joseph Langden (langj901)', 'Charles Lanigan (lanic901)', 'Richard LaPierre (lapir901)', 'Bill Laude (laudb901)', 'Jacques Lauzon (lauzj901)', 'John Lawler (lawlj901)', 'Bill Lawson (lawsb901)', 'Jerry Layne (laynj901)', 'Richie Lazar (lazar901)', 'Harry Leach (leach901)', nan, 'Nic Lentz (lentn901)', 'J. Leonard (leonj901)', 'Tom Lepperd (leppt901)', 'Isaac Leroy (leroi901)', 'Jay Levet (levej901)', 'John Libka (libkj901)', 'Fred Lincoln (lincf901)', 'Joe Linsalata (linsj901)', 'Will Little (littw901)', 'Shane Livensparger (lives901)', 'William Locke (lockm901)', 'Jerry Loeber (loebj901)', 'Mark Lollo (lollm901)', 'Bob Long (longb901)', 'Billy Long (longb902)', 'Phil Lospitalier (lospp901)', 'William Laughlin (lougw901)', 'Jim Lovett (lovej901)', 'John Lowell (lowej901)', 'Ron Luciano (lucir901)', 'Terry Luhr (luhrt901)', 'Dale Luker (luked901)', 'Charlie Lupo (lupoc901)', nan, 'Tom Lynch (lynct901)', 'Fred Mabbott (mabbf901)', 'Thomas McDiarmed (macdt901)', 'John Mackin (mackj901)', 'Charles Maddox (maddc901)', 'George Magerkurth (mageg901)', 'Jim Maginnis (magij901)', 'Joe Maher (maheb901)', 'Jerry Mahoney (mahom901)', 'Nick Mahrley (mahrn901)', 'George Maloney (malog901)', 'J.R. Malone (maloj901)', 'Martin Malone (malou901)', 'Al Mannassau (manna901)', 'Terry Mann (mannt901)', 'Blake Mapledoram (maplb901)', 'Jimmy Marino (marij901)', 'Alfonso Marquez (marqa901)', 'Randy Marsh (marsr901)', 'Frank Marshall (marsu901)', 'Bruce Martine (martb901)', 'Lewis Martin (martl901)', 'Darrel Mason (masod901)', 'Boyd Mauer (maueb901)', 'J.H. Manny (mawnj901)', 'Corty Maxwell (maxwc901)', 'Ben May (may-b901)', nan, 'John McArdle (mcarj901)', 'Gary McAvoy (mcavg901)', 'Charles McCafferty (mccac901)', 'Jack McCarthy (mccaj901)', 'Joseph McCartney (mccaj902)', 'Tim McClelland (mcclt901)', 'Larry McCoy (mccol901)', nan, 'Fred McCrum (mccru902)', 'James McDonald (mcdoj902)', 'Scott McDougall (mcdos901)', 'Harvey McElwee (mcelh901)', 'Horace McFarlan (mcfah901)', 'Tom McGinty (mcgiu901)', 'Bill McGowan (mcgob901)', 'Eugene McGreevy (mcgre901)', 'Ted McGrew (mcgrt901)', 'Eddie McGunnigle (mcgue901)', 'Jim McKean (mckej901)', 'Bill McKinley (mckib901)', 'Edward McLaughlin (mclae901)', 'Mike McLaughlin (mclam901)', 'Peter McLaughlin (mclap901)', 'Thomas McLaughlin (mclat901)', 'William McLaughlin (mclaw901)', 'Billy McLean (mcleb901)', 'Harry McLean (mcleh901)', 'Billy McMahon (mcmaw901)', 'Dennis McMinimum (mcmid901)', 'Jim McNally (mcnaj901)', 'Bob McNichol (mcnir901)', 'Jack McQuaid (mcquj902)', 'John McSherry (mcshj901)', 'Lewis Meacham (meacu901)', 'James Meagher (meagj901)', 'Jerry Meals (mealj901)', 'Charles Mears (mearc901)', 'William Medart (medaw901)', 'Cliff Megrue (megrc901)', 'Chuck Meriwether (meric901)', 'Clarence Merritt (merrc901)', 'Durwood Merrill (merrd901)', 'Joseph Mickel (micku901)', 'A.G. Mills (milla901)', 'Bill Miller (millb901)', 'Bud Miller (millb902)', 'Brennan Miller (millb903)', 'Charles Miller (millc901)', 'Gale Miller (millg901)', 'Greg Mills (millg903)', 'William Mincher (mincw901)', 'Charlie Mitchell (mitcc901)', 'Franklin Mitchell (mitcf901)', nan, 'Pat Monahan (monap901)', 'Ed Montague (monte901)', nan, nan, 'Augie Moran (moraa901)', 'Gabe Morales (morag901)', 'Hank Morgenweck (morgh901)', 'Dan Morrison (morrd901)', 'John Morris (morrj902)', 'Casey Moser (mosec901)', 'T.E. Mosely (moseu901)', 'Bob Moyer (moyeb901)', 'Joe Mrvos (mrvoj901)', 'Mike Muchlinski (muchm901)', 'Thomas Muir (muirt901)', 'Jim Mulcahy (mulcj901)', 'Dominic Mullaney (mulld901)', 'John Mullin (mullj901)', 'Peter Mullen (mullp901)', 'Henry Murphy (murph901)', 'J.A. Murphy (murpj901)', 'Ed Murray (murre901)', 'Joe Myers (myerj901)', 'Henry Nace (naceh901)', 'Dick Nallin (nalld901)', 'Larry Napp (nappl901)', 'Paul Nauert (nauep901)', 'Pete Negri (negrp901)', 'Bob Nelson (nelsb901)', 'Dick Nelson (nelsd901)', 'Jeff Nelson (nelsj901)', 'Scott Nelson (nelss901)', 'Jerry Neudecker (neudj901)', 'A.N. Nichols (nicha901)', 'Ed Norris (norre901)', 'Lee Norton (nortl901)', 'Carl Nothnagel (nothc901)', 'Les Novack (noval901)', 'Harrison Noxon (noxoh901)', \"Frank O'Brien (obrif901)\", \"Jim O'Brien (obrij901)\", \"Joe O'Brien (obrij902)\", \"Pete O'Brien (obrip901)\", \"William O'Brien (obriw901)\", \"Arthur O'Connor (ocona901)\", \"Jim O'Connor (oconj901)\", \"Tom O'Connor (ocont901)\", nan, \"Larry O'Dea (odayl901)\", \"Mike O'Dell (odelm901)\", 'Arthur Odlin (odlia901)', 'Jim Odom (odomj901)', \"Jake O'Donnell (odonj901)\", 'Ed Oliger (olige901)', \"Silk O'Loughlin (olous901)\", 'Andy Olsen (olsea901)', \"Brian O'Nora (onorb901)\", 'Red Ormsby (ormsr901)', 'Roberto Ortiz (ortir901)', 'William Osborne (osbow901)', \"John O'Sullivan (osulj901)\", 'Brick Owens (owenb901)', 'Bill Paasch (paasw901)', 'Jim Pacheco (pachj901)', 'Scott Packard (packs901)', 'Joey Padilla (padij901)', 'Steve Palermo (pales901)', 'Dave Pallone (palld901)', 'Rich Panas (panar901)', 'Joe Paparella (papaj901)', 'Dallas Parks (parkd901)', 'Tiny Parker (parkg901)', 'Harry Parker (parku901)', 'Art Passarella (passa901)', 'Tony Patch (patct901)', 'Marcus Pattillo (pattm903)', 'Jim Paylor (paylj901)', 'Frank Peak (peakf901)', 'Willard Pearson (pears901)', 'Chris Pelekoudas (pelec901)', 'Dave Perez (pered901)', 'Ray Perez (perer901)', 'Bull Perrine (perrb901)', 'Cy Pfirman (pfirc901)', 'Tommy Phelan (phelu901)', 'Dave Phillips (phild901)', 'Jerry Phipps (phipj901)', 'Mike Pilato (pilam901)', 'Joe Pomponi (pompj901)', 'Larry Poncino (poncl901)', 'Alan Porter (porta901)', 'Charles Porter (portu901)', 'Scott Potter (potts901)', 'Charles Power (powec902)', 'Jack Powell (powej901)', 'W. Powers (powew901)', 'Lester Pratt (pratl901)', 'Paul Pryor (pryop901)', 'Frank Pulli (pullf901)', 'Al Purduski (purda901)', 'Joe Puskaric (puskj901)', 'Jim Quick (quicj901)', 'Ernie Quigley (quige901)', 'A.J. Quinn (quina901)', 'Billy Quinn (quinb901)', 'John Quinn (quinj901)', 'Arthur Queisser (quisu901)', 'David Rackley (rackd901)', 'Jim Rains (rainj901)', 'Shawn Rakos (rakos901)', 'Dick Ramsey (ramsd901)', 'R. Ramsay (ramsr901)', 'Larry Randall (randl901)', 'Tony Randazzo (randt901)', 'Ed Rapuano (rapue901)', 'Joseph Rastall (rastj901)', 'Bruce Ravan (ravab901)', 'Tom Ravashiere (ravat901)', 'Beans Reardon (rearb901)', nan, 'Rick Reed (reedr901)', 'Jeremie Rehak (rehaj901)', 'Charles Reilly (reilc901)', 'Mike Reilly (reilm901)', 'Travis Reininger (reint901)', 'Charlie Reliford (relic901)', 'Dutch Rennert (rennd901)', 'D.J. Reyburn (reybd901)', 'Jim Reynolds (reynj901)', 'Eugene Rhoads (rhode901)', 'Dennis Riccio (riccd901)', 'Len Riccio (riccl901)', 'Bob Rice (riceb901)', 'John Rice (ricej901)', nan, 'J.M. Richards (richj901)', 'Rich Rieker (riekr901)', 'Mike Riggins (riggm901)', 'Cy Rigler (riglc901)', 'Mark Ripperger (rippm901)', 'Steve Rippley (ripps901)', 'F. Ritchie (ritcf901)', 'John Robb (robbj901)', 'Scotty Robb (robbs901)', 'Lenny Roberts (robel901)', 'Bill Robinson (robib901)', 'Armando Rodriguez (rodra901)', 'Gus Rodriguez (rodrg901)', 'Rocky Roe (roe-r901)', 'Bob Roesner (roesb901)', 'George Rogers (rogeg901)', 'Mort Rogers (rogem901)', nan, 'Bill Rosenberry (roseb901)', 'Robert Ross (rossr901)', 'Roy Roth (rothr901)', 'Hank Rountree (rounh901)', 'Frank Rudderham (ruddf901)', 'Joe Rue (rue-j901)', 'Gus Ruhl (ruhlg901)', 'Dick Runchey (runcd901)', 'Brian Runge (rungb901)', 'Ed Runge (runge901)', 'Paul Runge (rungp901)', 'Red Ryan (ryanw901)', 'Cy Ryberg (rybes901)', 'Al Salerno (salea901)', 'Jack Samuels (samuj901)', 'Darold Satchell (satcd901)', 'Joe Sawchuk (sawcj901)', 'Dent Sawyer (sawyd901)', 'Cliff Schaller (schac901)', 'Fred Schaaf (schaf901)', 'Jim Schaly (schaj901)', 'Al Scheel (schea901)', 'Gus Scheu (scheg901)', 'Stu Scheurwater (sches901)', 'Don Schirmer (schid901)', 'John Schleyer (schlj901)', 'Bob Schroeder (schrb901)', 'Joe Schratz (schrj901)', 'Louis Schrader (schrl901)', 'Paul Schrieber (schrp901)', 'Don Schulte (schud901)', 'John Schuester (schuj901)', 'Harry Schwarts (schwh901)', 'Hank Schwarz (schwh902)', 'John Scofield (scofj901)', 'Dale Scott (scotd901)', 'Jim Scott (scotj901)', 'John Sears (searj901)', 'Ziggy Sears (searz901)', 'Chris Segal (segac901)', 'Jim Sheasgreen (shaeu901)', 'Bob Sharp (sharb901)', 'Mick Sharkey (sharm901)', 'Duane Shaw (shawd901)', 'W.L. Shepard (shepw901)', 'Jack Sheridan (sherj901)', 'Shang Sherman (shers901)', 'Jim Shewmake (shewj901)', 'John Shulock (shulj901)', 'Lew Simpson (simpl901)', 'Harold Siroka (siroh901)', 'Fred Skelley (skelu901)', 'Jim Skerrett (skerj901)', 'Don Slattery (slatd901)', 'Dave Slickenmeyer (slicd901)', 'Harry Smail (smaih901)', 'Al Smith (smita901)', 'Billy Smith (smitb901)', 'Eb Smith (smite901)', 'Gene Smith (smite902)', 'George Smith (smitg901)', 'Gustavus Smith (smitg902)', 'George Sneeden (sneeu901)', 'Carey Snoddy (snodc901)', 'Hank Soar (soarh901)', 'Benjamin Sommer (sommb901)', 'Darren Spagnardi (spagd901)', 'John Spange (spanj901)', 'Fred Spenn (spenf901)', 'Pat Spieler (spiep901)', 'Mike Spinelli (spinm901)', 'Bill Sprincz (sprib901)', 'Marty Springstead (sprim901)', 'Jack Stafford (stafj901)', 'Billy Stage (stagb901)', 'George Stahl (stahg901)', 'Calvin Stambaugh (stamc901)', 'Jack Stansell (stanj901)', 'H.D. Stanwood (stanu901)', 'Dolly Stark (stard901)', 'Mel Steiner (steim901)', 'Dick Stello (steld901)', 'Paul Steinberg (sterp901)', 'Johnny Stevens (stevj901)', 'Bill Stewart (stewb901)', 'Bob Stewart (stewb902)', 'Ernie Stewart (stewe901)', 'John Stewart (stewj901)', 'Joseph Stophlet (stopj901)', 'Murray Strey (strem901)', 'Ed Sudol (sudoe901)', 'Dave Sullivan (sulld901)', 'Jerry Sullivan (sullj901)', 'Bill Summers (summb901)', 'James Sumner (summj901)', 'Bill Supple (suppw901)', 'George Sweeney (sweeg901)', 'Monroe Sweeney (sweej901)', 'Charles Swenson (swenc901)', 'Frank Sylvester (sylvf901)', 'Frank Tabacchi (tabaf901)', 'John Talbot (talbu901)', 'Terry Tata (tatat901)', 'William Tate (tatew901)', 'Joe Bob Taylor (taylj901)', 'Walter Taylor (taylw901)', 'Tom Telford (telft901)', 'Russ Terlop (terlr901)', 'Ted Theilander (theit901)', 'Mike Thompson (thomm901)', 'R.J. Thompson (thomr901)', 'Todd Tichenor (ticht901)', 'Ed Tighe (tighe901)', 'Otis Tilden (tildo901)', 'Chris Tiller (tillc901)', 'Hank Tillman (tillh901)', nan, 'Tim Timmons (timmt901)', 'Charles Tindill (tindu901)', nan, 'Carlos Torres (torrc901)', 'Alex Tosi (tosia901)', 'Vic Travis (travv901)', 'Les Treitel (treil901)', 'Dick Tremblay (tremd901)', 'Tim Tschida (tscht901)', 'John Tumpane (tumpj901)', 'William Tunison (tunnw901)', 'Leo Turner (turnl901)', 'Ben Tuthill (tuthb901)', 'Columbus Tyler (tylec901)', 'Jake Uhlenhopp (uhlej901)', 'George Ulrich (ulrig901)', 'Frank Umont (umonf901)', 'Woody Urchak (urchw901)', 'Emmett Urell (urelm901)', 'Jim Uremovich (uremj901)', 'Dick Urlage (urlad901)', 'Bill Valentine (valeb901)', 'Eugene Van Court (vance901)', 'Benjamin Van Delft (vandb901)', 'Roy Van Graflan (vangr901)', 'Larry Vanover (vanol901)', 'Charles Van Sickle (vansc901)', 'Mike Vanvleet (vanvm901)', 'Ed Vargo (varge901)', 'Tony Venzon (venzt901)', 'Jansen Visconti (viscj901)', 'E.C. Voltz (volte901)', 'Vic Voltaggio (voltv901)', 'Ben Wade (wadeb901)', 'Larry Walding (waldl901)', 'Frank Wolke (walkf901)', 'William Walker (walkw901)', 'Jim Waller (wallj901)', 'Frank Walsh (walsf901)', 'Benny Walton (waltb901)', 'G.W. Walton (waltg901)', nan, nan, 'Al Warner (warna901)', 'L.B. Warren (warrl901)', 'Frank Wash (washf901)', 'Hal Weafer (weafh901)', 'Charles Weden (weedu901)', 'Mark Wegner (wegnm901)', 'William Weigel (weigw901)', 'Bill Welke (welkb901)', 'Tim Welke (welkt901)', 'Harry Wendelstedt (wendh901)', 'Hunter Wendelstedt (wendh902)', 'Frederick Westervelt (westf901)', 'George West (westg901)', 'Joe West (westj901)', 'Edward West (westu901)', 'Lee Weyer (weyel901)', 'Bart Whaley (whalb901)', 'Chad Whitson (whitc901)', 'Gideon White (whitg901)', 'Horatio White (whith901)', 'Dan Wickham (wickd901)', 'Mark Widlowski (widlm901)', nan, 'Charles Wilbur (wilbc901)', 'John Wildey (wildj901)', 'Art Williams (willa901)', 'Bill Williams (willb901)', 'Bob Willman (willb902)', 'Charlie Williams (willc901)', 'Dale Williams (willd902)', 'Gardner Willard (willg901)', 'Frank Wilson (wilsf901)', 'John Wilson (wilsj901)', 'Matt Winans (winam901)', 'Mike Winters (wintm901)', 'Adam Wirth (wirta901)', 'Quinn Wolcott (wolcq901)', 'Jim Wolf (wolfj901)', 'Tom Woodring (woodt901)', 'Marvin Wright (wrigm901)', 'Parry Wright (wrigu901)', 'W.S. Wyckoff (wycou901)', 'Dave Yeast (yeasd901)', 'Ben Young (younb901)', 'Joseph Young (younj901)', 'Larry Young (younl901)', 'Thomas Zachariah (zacht901)', 'Larry Zirbel (zirbl901)', 'Dick Zivic (zivid901)', 'Rico Zuccaro (zuccr901)']\n",
     "output_type": "stream"
    },
    {
     "output_type": "execute_result",
     "execution_count": 3,
     "data": {
      "application/vnd.deepnote.dataframe.v2+json": {
       "row_count": 2492,
       "column_count": 35,
       "columns": [
        {
         "name": "attendance",
         "dtype": "int64",
         "stats": {
          "unique_count": 2407,
          "nan_count": 0,
          "min": "0",
          "max": "59659",
          "histogram": [
           {
            "bin_start": 0,
            "bin_end": 5965.9,
            "count": 18
           },
           {
            "bin_start": 5965.9,
            "bin_end": 11931.8,
            "count": 96
           },
           {
            "bin_start": 11931.8,
            "bin_end": 17897.699999999997,
            "count": 247
           },
           {
            "bin_start": 17897.699999999997,
            "bin_end": 23863.6,
            "count": 388
           },
           {
            "bin_start": 23863.6,
            "bin_end": 29829.5,
            "count": 385
           },
           {
            "bin_start": 29829.5,
            "bin_end": 35795.399999999994,
            "count": 382
           },
           {
            "bin_start": 35795.399999999994,
            "bin_end": 41761.299999999996,
            "count": 563
           },
           {
            "bin_start": 41761.299999999996,
            "bin_end": 47727.2,
            "count": 288
           },
           {
            "bin_start": 47727.2,
            "bin_end": 53693.1,
            "count": 79
           },
           {
            "bin_start": 53693.1,
            "bin_end": 59659,
            "count": 46
           }
          ]
         }
        },
        {
         "name": "date",
         "dtype": "object",
         "stats": {
          "unique_count": 2477,
          "nan_count": 0,
          "categories": [
           {
            "name": "2003-06-08",
            "count": 2
           },
           {
            "name": "2002-04-28",
            "count": 2
           },
           {
            "name": "2475 others",
            "count": 2488
           }
          ]
         }
        },
        {
         "name": "daynight",
         "dtype": "object",
         "stats": {
          "unique_count": 2,
          "nan_count": 0,
          "categories": [
           {
            "name": "night",
            "count": 1672
           },
           {
            "name": "day",
            "count": 820
           }
          ]
         }
        },
        {
         "name": "edittime",
         "dtype": "object",
         "stats": {
          "unique_count": 0,
          "nan_count": 2492,
          "categories": [
           {
            "name": "Missing",
            "count": 2492
           }
          ]
         }
        },
        {
         "name": "fieldcond",
         "dtype": "object",
         "stats": {
          "unique_count": 3,
          "nan_count": 0,
          "categories": [
           {
            "name": "unknown",
            "count": 2169
           },
           {
            "name": "dry",
            "count": 300
           },
           {
            "name": "wet",
            "count": 23
           }
          ]
         }
        },
        {
         "name": "gwrbi",
         "dtype": "object",
         "stats": {
          "unique_count": 0,
          "nan_count": 2492,
          "categories": [
           {
            "name": "Missing",
            "count": 2492
           }
          ]
         }
        },
        {
         "name": "hometeam",
         "dtype": "object",
         "stats": {
          "unique_count": 32,
          "nan_count": 0,
          "categories": [
           {
            "name": "BOS",
            "count": 119
           },
           {
            "name": "LAN",
            "count": 116
           },
           {
            "name": "30 others",
            "count": 2257
           }
          ]
         }
        },
        {
         "name": "howentered",
         "dtype": "object",
         "stats": {
          "unique_count": 0,
          "nan_count": 2492,
          "categories": [
           {
            "name": "Missing",
            "count": 2492
           }
          ]
         }
        },
        {
         "name": "howscored",
         "dtype": "object",
         "stats": {
          "unique_count": 1,
          "nan_count": 61,
          "categories": [
           {
            "name": "park",
            "count": 2431
           },
           {
            "name": "Missing",
            "count": 61
           }
          ]
         }
        },
        {
         "name": "id",
         "dtype": "object",
         "stats": {
          "unique_count": 2492,
          "nan_count": 0,
          "categories": [
           {
            "name": "WAS200904300",
            "count": 1
           },
           {
            "name": "WAS200905010",
            "count": 1
           },
           {
            "name": "2490 others",
            "count": 2490
           }
          ]
         }
        },
        {
         "name": "inputprogvers",
         "dtype": "object",
         "stats": {
          "unique_count": 0,
          "nan_count": 2492,
          "categories": [
           {
            "name": "Missing",
            "count": 2492
           }
          ]
         }
        },
        {
         "name": "inputter",
         "dtype": "object",
         "stats": {
          "unique_count": 3,
          "nan_count": 2485,
          "categories": [
           {
            "name": "\"\"\"DWS\"\"\"",
            "count": 5
           },
           {
            "name": "2 others",
            "count": 2
           },
           {
            "name": "Missing",
            "count": 2485
           }
          ]
         }
        },
        {
         "name": "inputtime",
         "dtype": "object",
         "stats": {
          "unique_count": 0,
          "nan_count": 2492,
          "categories": [
           {
            "name": "Missing",
            "count": 2492
           }
          ]
         }
        },
        {
         "name": "lp",
         "dtype": "object",
         "stats": {
          "unique_count": 1130,
          "nan_count": 0,
          "categories": [
           {
            "name": "lowed001",
            "count": 14
           },
           {
            "name": "waket001",
            "count": 12
           },
           {
            "name": "1128 others",
            "count": 2466
           }
          ]
         }
        },
        {
         "name": "number",
         "dtype": "object",
         "stats": {
          "unique_count": 3,
          "nan_count": 0,
          "categories": [
           {
            "name": "0",
            "count": 2455
           },
           {
            "name": "1",
            "count": 20
           },
           {
            "name": "2",
            "count": 17
           }
          ]
         }
        },
        {
         "name": "oscorer",
         "dtype": "object",
         "stats": {
          "unique_count": 132,
          "nan_count": 422,
          "categories": [
           {
            "name": "munse701",
            "count": 107
           },
           {
            "name": "131 others",
            "count": 1963
           },
           {
            "name": "Missing",
            "count": 422
           }
          ]
         }
        },
        {
         "name": "pitches",
         "dtype": "object",
         "stats": {
          "unique_count": 1,
          "nan_count": 0,
          "categories": [
           {
            "name": "pitches",
            "count": 2492
           }
          ]
         }
        },
        {
         "name": "precip",
         "dtype": "object",
         "stats": {
          "unique_count": 4,
          "nan_count": 0,
          "categories": [
           {
            "name": "unknown",
            "count": 2161
           },
           {
            "name": "none",
            "count": 301
           },
           {
            "name": "2 others",
            "count": 30
           }
          ]
         }
        },
        {
         "name": "save",
         "dtype": "object",
         "stats": {
          "unique_count": 342,
          "nan_count": 1235,
          "categories": [
           {
            "name": "streh001",
            "count": 29
           },
           {
            "name": "341 others",
            "count": 1228
           },
           {
            "name": "Missing",
            "count": 1235
           }
          ]
         }
        },
        {
         "name": "scorer",
         "dtype": "object",
         "stats": {
          "unique_count": 2,
          "nan_count": 2490,
          "categories": [
           {
            "name": "Stuart Shea",
            "count": 1
           },
           {
            "name": "\"\"\"Michael Duca\"\"\"",
            "count": 1
           },
           {
            "name": "Missing",
            "count": 2490
           }
          ]
         }
        },
        {
         "name": "site",
         "dtype": "object",
         "stats": {
          "unique_count": 45,
          "nan_count": 0,
          "categories": [
           {
            "name": "BOS07",
            "count": 117
           },
           {
            "name": "LOS03",
            "count": 116
           },
           {
            "name": "43 others",
            "count": 2259
           }
          ]
         }
        },
        {
         "name": "sky",
         "dtype": "object",
         "stats": {
          "unique_count": 6,
          "nan_count": 0,
          "categories": [
           {
            "name": "sunny",
            "count": 826
           },
           {
            "name": "cloudy",
            "count": 764
           },
           {
            "name": "4 others",
            "count": 902
           }
          ]
         }
        },
        {
         "name": "starttime",
         "dtype": "object",
         "stats": {
          "unique_count": 236,
          "nan_count": 0,
          "categories": [
           {
            "name": "7:10PM",
            "count": 243
           },
           {
            "name": "7:07PM",
            "count": 189
           },
           {
            "name": "234 others",
            "count": 2060
           }
          ]
         }
        },
        {
         "name": "temp",
         "dtype": "int64",
         "stats": {
          "unique_count": 70,
          "nan_count": 0,
          "min": "35",
          "max": "104",
          "histogram": [
           {
            "bin_start": 35,
            "bin_end": 41.9,
            "count": 12
           },
           {
            "bin_start": 41.9,
            "bin_end": 48.8,
            "count": 39
           },
           {
            "bin_start": 48.8,
            "bin_end": 55.7,
            "count": 107
           },
           {
            "bin_start": 55.7,
            "bin_end": 62.6,
            "count": 234
           },
           {
            "bin_start": 62.6,
            "bin_end": 69.5,
            "count": 468
           },
           {
            "bin_start": 69.5,
            "bin_end": 76.4,
            "count": 711
           },
           {
            "bin_start": 76.4,
            "bin_end": 83.30000000000001,
            "count": 540
           },
           {
            "bin_start": 83.30000000000001,
            "bin_end": 90.2,
            "count": 264
           },
           {
            "bin_start": 90.2,
            "bin_end": 97.1,
            "count": 98
           },
           {
            "bin_start": 97.1,
            "bin_end": 104,
            "count": 19
           }
          ]
         }
        },
        {
         "name": "timeofgame",
         "dtype": "int64",
         "stats": {
          "unique_count": 165,
          "nan_count": 0,
          "min": "85",
          "max": "341",
          "histogram": [
           {
            "bin_start": 85,
            "bin_end": 110.6,
            "count": 2
           },
           {
            "bin_start": 110.6,
            "bin_end": 136.2,
            "count": 65
           },
           {
            "bin_start": 136.2,
            "bin_end": 161.8,
            "count": 600
           },
           {
            "bin_start": 161.8,
            "bin_end": 187.4,
            "count": 1018
           },
           {
            "bin_start": 187.4,
            "bin_end": 213,
            "count": 548
           },
           {
            "bin_start": 213,
            "bin_end": 238.60000000000002,
            "count": 178
           },
           {
            "bin_start": 238.60000000000002,
            "bin_end": 264.20000000000005,
            "count": 50
           },
           {
            "bin_start": 264.20000000000005,
            "bin_end": 289.8,
            "count": 19
           },
           {
            "bin_start": 289.8,
            "bin_end": 315.4,
            "count": 7
           },
           {
            "bin_start": 315.4,
            "bin_end": 341,
            "count": 5
           }
          ]
         }
        },
        {
         "name": "translator",
         "dtype": "object",
         "stats": {
          "unique_count": 1,
          "nan_count": 2491,
          "categories": [
           {
            "name": "\"\"\"\"\"\"",
            "count": 1
           },
           {
            "name": "Missing",
            "count": 2491
           }
          ]
         }
        },
        {
         "name": "ump1b",
         "dtype": "object",
         "stats": {
          "unique_count": 125,
          "nan_count": 0,
          "categories": [
           {
            "name": "herna901",
            "count": 630
           },
           {
            "name": "marsr901",
            "count": 124
           },
           {
            "name": "123 others",
            "count": 1738
           }
          ]
         }
        },
        {
         "name": "ump2b",
         "dtype": "object",
         "stats": {
          "unique_count": 124,
          "nan_count": 0,
          "categories": [
           {
            "name": "herna901",
            "count": 613
           },
           {
            "name": "marsr901",
            "count": 126
           },
           {
            "name": "122 others",
            "count": 1753
           }
          ]
         }
        },
        {
         "name": "ump3b",
         "dtype": "object",
         "stats": {
          "unique_count": 118,
          "nan_count": 0,
          "categories": [
           {
            "name": "herna901",
            "count": 610
           },
           {
            "name": "marsr901",
            "count": 128
           },
           {
            "name": "116 others",
            "count": 1754
           }
          ]
         }
        },
        {
         "name": "umphome",
         "dtype": "object",
         "stats": {
          "unique_count": 115,
          "nan_count": 0,
          "categories": [
           {
            "name": "herna901",
            "count": 639
           },
           {
            "name": "marsr901",
            "count": 133
           },
           {
            "name": "113 others",
            "count": 1720
           }
          ]
         }
        },
        {
         "name": "usedh",
         "dtype": "object",
         "stats": {
          "unique_count": 2,
          "nan_count": 0,
          "categories": [
           {
            "name": "false",
            "count": 1307
           },
           {
            "name": "true",
            "count": 1185
           }
          ]
         }
        },
        {
         "name": "visteam",
         "dtype": "object",
         "stats": {
          "unique_count": 32,
          "nan_count": 0,
          "categories": [
           {
            "name": "SLN",
            "count": 132
           },
           {
            "name": "SEA",
            "count": 106
           },
           {
            "name": "30 others",
            "count": 2254
           }
          ]
         }
        },
        {
         "name": "winddir",
         "dtype": "object",
         "stats": {
          "unique_count": 9,
          "nan_count": 0,
          "categories": [
           {
            "name": "ltor",
            "count": 438
           },
           {
            "name": "unknown",
            "count": 371
           },
           {
            "name": "7 others",
            "count": 1683
           }
          ]
         }
        },
        {
         "name": "windspeed",
         "dtype": "int64",
         "stats": {
          "unique_count": 29,
          "nan_count": 0,
          "min": "0",
          "max": "30",
          "histogram": [
           {
            "bin_start": 0,
            "bin_end": 3,
            "count": 481
           },
           {
            "bin_start": 3,
            "bin_end": 6,
            "count": 353
           },
           {
            "bin_start": 6,
            "bin_end": 9,
            "count": 619
           },
           {
            "bin_start": 9,
            "bin_end": 12,
            "count": 511
           },
           {
            "bin_start": 12,
            "bin_end": 15,
            "count": 291
           },
           {
            "bin_start": 15,
            "bin_end": 18,
            "count": 144
           },
           {
            "bin_start": 18,
            "bin_end": 21,
            "count": 57
           },
           {
            "bin_start": 21,
            "bin_end": 24,
            "count": 22
           },
           {
            "bin_start": 24,
            "bin_end": 27,
            "count": 10
           },
           {
            "bin_start": 27,
            "bin_end": 30,
            "count": 4
           }
          ]
         }
        },
        {
         "name": "wp",
         "dtype": "object",
         "stats": {
          "unique_count": 1032,
          "nan_count": 0,
          "categories": [
           {
            "name": "hallr001",
            "count": 14
           },
           {
            "name": "sabac001",
            "count": 13
           },
           {
            "name": "1030 others",
            "count": 2465
           }
          ]
         }
        },
        {
         "name": "_deepnote_index_column",
         "dtype": "int64"
        }
       ],
       "rows_top": [
        {
         "attendance": 18007,
         "date": "2009-04-30",
         "daynight": "night",
         "edittime": "None",
         "fieldcond": "unknown",
         "gwrbi": "None",
         "hometeam": "WAS",
         "howentered": "None",
         "howscored": "park",
         "id": "WAS200904300",
         "inputprogvers": "None",
         "inputter": "None",
         "inputtime": "None",
         "lp": "tavaj001",
         "number": "0",
         "oscorer": "tritb701",
         "pitches": "pitches",
         "precip": "unknown",
         "save": "None",
         "scorer": "None",
         "site": "WAS11",
         "sky": "unknown",
         "starttime": "7:06PM",
         "temp": 63,
         "timeofgame": 198,
         "translator": "None",
         "ump1b": "welkt901",
         "ump2b": "herna901",
         "ump3b": "welkb901",
         "umphome": "reynj901",
         "usedh": "false",
         "visteam": "SLN",
         "winddir": "rtol",
         "windspeed": 5,
         "wp": "perec002",
         "_deepnote_index_column": 0
        },
        {
         "attendance": 20697,
         "date": "2009-05-01",
         "daynight": "night",
         "edittime": "None",
         "fieldcond": "unknown",
         "gwrbi": "None",
         "hometeam": "WAS",
         "howentered": "None",
         "howscored": "park",
         "id": "WAS200905010",
         "inputprogvers": "None",
         "inputter": "None",
         "inputtime": "None",
         "lp": "zimmj003",
         "number": "0",
         "oscorer": "tritb701",
         "pitches": "pitches",
         "precip": "unknown",
         "save": "None",
         "scorer": "None",
         "site": "WAS11",
         "sky": "unknown",
         "starttime": "7:05PM",
         "temp": 76,
         "timeofgame": 151,
         "translator": "None",
         "ump1b": "herna901",
         "ump2b": "welkb901",
         "ump3b": "causk901",
         "umphome": "welkt901",
         "usedh": "false",
         "visteam": "SLN",
         "winddir": "torf",
         "windspeed": 8,
         "wp": "wellt002",
         "_deepnote_index_column": 1
        },
        {
         "attendance": 19950,
         "date": "2009-05-02",
         "daynight": "day",
         "edittime": "None",
         "fieldcond": "unknown",
         "gwrbi": "None",
         "hometeam": "WAS",
         "howentered": "None",
         "howscored": "park",
         "id": "WAS200905020",
         "inputprogvers": "None",
         "inputter": "None",
         "inputtime": "None",
         "lp": "pinej001",
         "number": "0",
         "oscorer": "tritb701",
         "pitches": "pitches",
         "precip": "unknown",
         "save": "None",
         "scorer": "None",
         "site": "WAS11",
         "sky": "overcast",
         "starttime": "1:06PM",
         "temp": 63,
         "timeofgame": 127,
         "translator": "None",
         "ump1b": "welkb901",
         "ump2b": "causk901",
         "ump3b": "welkt901",
         "umphome": "herna901",
         "usedh": "false",
         "visteam": "SLN",
         "winddir": "ltor",
         "windspeed": 5,
         "wp": "marts001",
         "_deepnote_index_column": 2
        },
        {
         "attendance": 22556,
         "date": "2009-05-22",
         "daynight": "night",
         "edittime": "None",
         "fieldcond": "unknown",
         "gwrbi": "None",
         "hometeam": "WAS",
         "howentered": "None",
         "howscored": "park",
         "id": "WAS200905220",
         "inputprogvers": "None",
         "inputter": "None",
         "inputtime": "None",
         "lp": "wellk001",
         "number": "0",
         "oscorer": "jacot701",
         "pitches": "pitches",
         "precip": "unknown",
         "save": "sherg001",
         "scorer": "None",
         "site": "WAS11",
         "sky": "cloudy",
         "starttime": "7:06PM",
         "temp": 83,
         "timeofgame": 186,
         "translator": "None",
         "ump1b": "welkt901",
         "ump2b": "reynj901",
         "ump3b": "herna901",
         "umphome": "welkb901",
         "usedh": "false",
         "visteam": "BAL",
         "winddir": "tolf",
         "windspeed": 4,
         "wp": "baezd001",
         "_deepnote_index_column": 3
        },
        {
         "attendance": 31833,
         "date": "2009-05-23",
         "daynight": "night",
         "edittime": "None",
         "fieldcond": "unknown",
         "gwrbi": "None",
         "hometeam": "WAS",
         "howentered": "None",
         "howscored": "park",
         "id": "WAS200905230",
         "inputprogvers": "None",
         "inputter": "None",
         "inputtime": "None",
         "lp": "tavaj001",
         "number": "0",
         "oscorer": "jacot701",
         "pitches": "pitches",
         "precip": "unknown",
         "save": "sherg001",
         "scorer": "None",
         "site": "WAS11",
         "sky": "cloudy",
         "starttime": "7:05PM",
         "temp": 82,
         "timeofgame": 151,
         "translator": "None",
         "ump1b": "reynj901",
         "ump2b": "herna901",
         "ump3b": "welkb901",
         "umphome": "welkt901",
         "usedh": "false",
         "visteam": "BAL",
         "winddir": "tolf",
         "windspeed": 4,
         "wp": "bassb001",
         "_deepnote_index_column": 4
        },
        {
         "attendance": 30880,
         "date": "2009-05-24",
         "daynight": "day",
         "edittime": "None",
         "fieldcond": "unknown",
         "gwrbi": "None",
         "hometeam": "WAS",
         "howentered": "None",
         "howscored": "park",
         "id": "WAS200905240",
         "inputprogvers": "None",
         "inputter": "None",
         "inputtime": "None",
         "lp": "ray-c001",
         "number": "0",
         "oscorer": "jacot701",
         "pitches": "pitches",
         "precip": "unknown",
         "save": "hanrj001",
         "scorer": "None",
         "site": "WAS11",
         "sky": "cloudy",
         "starttime": "1:37PM",
         "temp": 80,
         "timeofgame": 156,
         "translator": "None",
         "ump1b": "herna901",
         "ump2b": "welkb901",
         "ump3b": "welkt901",
         "umphome": "reynj901",
         "usedh": "false",
         "visteam": "BAL",
         "winddir": "tolf",
         "windspeed": 1,
         "wp": "villr001",
         "_deepnote_index_column": 5
        },
        {
         "attendance": 16274,
         "date": "2009-06-09",
         "daynight": "night",
         "edittime": "None",
         "fieldcond": "unknown",
         "gwrbi": "None",
         "hometeam": "WAS",
         "howentered": "None",
         "howscored": "park",
         "id": "WAS200906090",
         "inputprogvers": "None",
         "inputter": "None",
         "inputtime": "None",
         "lp": "detwr001",
         "number": "0",
         "oscorer": "tritb701",
         "pitches": "pitches",
         "precip": "unknown",
         "save": "cordf002",
         "scorer": "None",
         "site": "WAS11",
         "sky": "unknown",
         "starttime": "8:52PM",
         "temp": 65,
         "timeofgame": 169,
         "translator": "None",
         "ump1b": "herna901",
         "ump2b": "barrs901",
         "ump3b": "mcclt901",
         "umphome": "fleta901",
         "usedh": "false",
         "visteam": "CIN",
         "winddir": "torf",
         "windspeed": 8,
         "wp": "cuetj001",
         "_deepnote_index_column": 6
        },
        {
         "attendance": 19790,
         "date": "2009-06-10",
         "daynight": "night",
         "edittime": "None",
         "fieldcond": "unknown",
         "gwrbi": "None",
         "hometeam": "WAS",
         "howentered": "None",
         "howscored": "park",
         "id": "WAS200906100",
         "inputprogvers": "None",
         "inputter": "None",
         "inputtime": "None",
         "lp": "villr001",
         "number": "0",
         "oscorer": "tritb701",
         "pitches": "pitches",
         "precip": "unknown",
         "save": "weatd001",
         "scorer": "None",
         "site": "WAS11",
         "sky": "unknown",
         "starttime": "7:07PM",
         "temp": 81,
         "timeofgame": 214,
         "translator": "None",
         "ump1b": "barrs901",
         "ump2b": "mcclt901",
         "ump3b": "fleta901",
         "umphome": "herna901",
         "usedh": "false",
         "visteam": "CIN",
         "winddir": "tolf",
         "windspeed": 1,
         "wp": "massn001",
         "_deepnote_index_column": 7
        },
        {
         "attendance": 19703,
         "date": "2009-06-11",
         "daynight": "day",
         "edittime": "None",
         "fieldcond": "unknown",
         "gwrbi": "None",
         "hometeam": "WAS",
         "howentered": "None",
         "howscored": "park",
         "id": "WAS200906110",
         "inputprogvers": "None",
         "inputter": "None",
         "inputtime": "None",
         "lp": "herrd001",
         "number": "0",
         "oscorer": "tritb701",
         "pitches": "pitches",
         "precip": "unknown",
         "save": "beimj001",
         "scorer": "None",
         "site": "WAS11",
         "sky": "unknown",
         "starttime": "4:37PM",
         "temp": 82,
         "timeofgame": 189,
         "translator": "None",
         "ump1b": "mcclt901",
         "ump2b": "fleta901",
         "ump3b": "herna901",
         "umphome": "barrs901",
         "usedh": "false",
         "visteam": "CIN",
         "winddir": "tolf",
         "windspeed": 6,
         "wp": "tavaj001",
         "_deepnote_index_column": 8
        },
        {
         "attendance": 41115,
         "date": "2009-06-05",
         "daynight": "night",
         "edittime": "None",
         "fieldcond": "unknown",
         "gwrbi": "None",
         "hometeam": "SLN",
         "howentered": "None",
         "howscored": "park",
         "id": "SLN200906050",
         "inputprogvers": "None",
         "inputter": "None",
         "inputtime": "None",
         "lp": "waina001",
         "number": "0",
         "oscorer": "smitm701",
         "pitches": "pitches",
         "precip": "unknown",
         "save": "None",
         "scorer": "None",
         "site": "STL10",
         "sky": "sunny",
         "starttime": "7:15PM",
         "temp": 74,
         "timeofgame": 193,
         "translator": "None",
         "ump1b": "reynj901",
         "ump2b": "herna901",
         "ump3b": "welkb901",
         "umphome": "welkt901",
         "usedh": "false",
         "visteam": "COL",
         "winddir": "fromlf",
         "windspeed": 4,
         "wp": "delaj001",
         "_deepnote_index_column": 9
        },
        {
         "attendance": 44002,
         "date": "2009-06-06",
         "daynight": "night",
         "edittime": "None",
         "fieldcond": "unknown",
         "gwrbi": "None",
         "hometeam": "SLN",
         "howentered": "None",
         "howscored": "park",
         "id": "SLN200906060",
         "inputprogvers": "None",
         "inputter": "None",
         "inputtime": "None",
         "lp": "wellt002",
         "number": "0",
         "oscorer": "muelg701",
         "pitches": "pitches",
         "precip": "unknown",
         "save": "None",
         "scorer": "None",
         "site": "STL10",
         "sky": "sunny",
         "starttime": "6:14PM",
         "temp": 77,
         "timeofgame": 147,
         "translator": "None",
         "ump1b": "herna901",
         "ump2b": "welkb901",
         "ump3b": "welkt901",
         "umphome": "reynj901",
         "usedh": "false",
         "visteam": "COL",
         "winddir": "rtol",
         "windspeed": 10,
         "wp": "cooka002",
         "_deepnote_index_column": 10
        },
        {
         "attendance": 42288,
         "date": "2009-06-07",
         "daynight": "day",
         "edittime": "None",
         "fieldcond": "unknown",
         "gwrbi": "None",
         "hometeam": "SLN",
         "howentered": "None",
         "howscored": "park",
         "id": "SLN200906070",
         "inputprogvers": "None",
         "inputter": "None",
         "inputtime": "None",
         "lp": "pinej001",
         "number": "0",
         "oscorer": "durbj701",
         "pitches": "pitches",
         "precip": "unknown",
         "save": "None",
         "scorer": "None",
         "site": "STL10",
         "sky": "unknown",
         "starttime": "1:14PM",
         "temp": 78,
         "timeofgame": 161,
         "translator": "None",
         "ump1b": "welkb901",
         "ump2b": "welkt901",
         "ump3b": "reynj901",
         "umphome": "herna901",
         "usedh": "false",
         "visteam": "COL",
         "winddir": "fromrf",
         "windspeed": 2,
         "wp": "jimeu001",
         "_deepnote_index_column": 11
        },
        {
         "attendance": 36748,
         "date": "2009-06-08",
         "daynight": "day",
         "edittime": "None",
         "fieldcond": "unknown",
         "gwrbi": "None",
         "hometeam": "SLN",
         "howentered": "None",
         "howscored": "park",
         "id": "SLN200906080",
         "inputprogvers": "None",
         "inputter": "None",
         "inputtime": "None",
         "lp": "thomb002",
         "number": "0",
         "oscorer": "muelg701",
         "pitches": "pitches",
         "precip": "unknown",
         "save": "streh001",
         "scorer": "None",
         "site": "STL10",
         "sky": "cloudy",
         "starttime": "1:16PM",
         "temp": 77,
         "timeofgame": 156,
         "translator": "None",
         "ump1b": "welkt901",
         "ump2b": "reynj901",
         "ump3b": "herna901",
         "umphome": "welkb901",
         "usedh": "false",
         "visteam": "COL",
         "winddir": "fromrf",
         "windspeed": 9,
         "wp": "marqj001",
         "_deepnote_index_column": 12
        },
        {
         "attendance": 42199,
         "date": "2009-07-03",
         "daynight": "night",
         "edittime": "None",
         "fieldcond": "unknown",
         "gwrbi": "None",
         "hometeam": "SFN",
         "howentered": "None",
         "howscored": "park",
         "id": "SFN200907030",
         "inputprogvers": "None",
         "inputter": "None",
         "inputtime": "None",
         "lp": "paulf001",
         "number": "0",
         "oscorer": "santa701",
         "pitches": "pitches",
         "precip": "unknown",
         "save": "None",
         "scorer": "None",
         "site": "SFO03",
         "sky": "sunny",
         "starttime": "7:17PM",
         "temp": 66,
         "timeofgame": 144,
         "translator": "None",
         "ump1b": "hudsm901",
         "ump2b": "barkl901",
         "ump3b": "herna901",
         "umphome": "marsr901",
         "usedh": "false",
         "visteam": "HOU",
         "winddir": "tocf",
         "windspeed": 11,
         "wp": "sador001",
         "_deepnote_index_column": 13
        }
       ],
       "rows_bottom": [
        {
         "attendance": 44598,
         "date": "2002-10-27",
         "daynight": "night",
         "edittime": "None",
         "fieldcond": "unknown",
         "gwrbi": "None",
         "hometeam": "ANA",
         "howentered": "None",
         "howscored": "park",
         "id": "ANA200210270",
         "inputprogvers": "None",
         "inputter": "None",
         "inputtime": "None",
         "lp": "hernl003",
         "number": "0",
         "oscorer": "None",
         "pitches": "pitches",
         "precip": "unknown",
         "save": "perct001",
         "scorer": "None",
         "site": "ANA01",
         "sky": "sunny",
         "starttime": "5:02PM",
         "temp": 63,
         "timeofgame": 196,
         "translator": "None",
         "ump1b": "herna901",
         "ump2b": "tscht901",
         "ump3b": "wintm901",
         "umphome": "crawj901",
         "usedh": "true",
         "visteam": "SFN",
         "winddir": "rtol",
         "windspeed": 5,
         "wp": "lackj001",
         "_deepnote_index_column": 2478
        },
        {
         "attendance": 41903,
         "date": "2002-10-02",
         "daynight": "day",
         "edittime": "None",
         "fieldcond": "unknown",
         "gwrbi": "None",
         "hometeam": "ATL",
         "howentered": "None",
         "howscored": "park",
         "id": "ATL200210020",
         "inputprogvers": "None",
         "inputter": "None",
         "inputtime": "None",
         "lp": "glavt001",
         "number": "0",
         "oscorer": "None",
         "pitches": "pitches",
         "precip": "unknown",
         "save": "nen-r001",
         "scorer": "None",
         "site": "ATL02",
         "sky": "cloudy",
         "starttime": "1:00PM",
         "temp": 82,
         "timeofgame": 204,
         "translator": "None",
         "ump1b": "emmep901",
         "ump2b": "herna901",
         "ump3b": "laynj901",
         "umphome": "reilm901",
         "usedh": "false",
         "visteam": "SFN",
         "winddir": "ltor",
         "windspeed": 2,
         "wp": "ortir001",
         "_deepnote_index_column": 2479
        },
        {
         "attendance": 47167,
         "date": "2002-10-03",
         "daynight": "day",
         "edittime": "None",
         "fieldcond": "unknown",
         "gwrbi": "None",
         "hometeam": "ATL",
         "howentered": "None",
         "howscored": "park",
         "id": "ATL200210030",
         "inputprogvers": "None",
         "inputter": "None",
         "inputtime": "None",
         "lp": "ruetk001",
         "number": "0",
         "oscorer": "None",
         "pitches": "pitches",
         "precip": "unknown",
         "save": "None",
         "scorer": "None",
         "site": "ATL02",
         "sky": "cloudy",
         "starttime": "4:00PM",
         "temp": 79,
         "timeofgame": 178,
         "translator": "None",
         "ump1b": "herna901",
         "ump2b": "laynj901",
         "ump3b": "tscht901",
         "umphome": "emmep901",
         "usedh": "false",
         "visteam": "SFN",
         "winddir": "rtol",
         "windspeed": 6,
         "wp": "millk004",
         "_deepnote_index_column": 2480
        },
        {
         "attendance": 52189,
         "date": "2002-10-05",
         "daynight": "night",
         "edittime": "None",
         "fieldcond": "unknown",
         "gwrbi": "None",
         "hometeam": "SLN",
         "howentered": "None",
         "howscored": "park",
         "id": "SLN200210050",
         "inputprogvers": "None",
         "inputter": "None",
         "inputtime": "None",
         "lp": "batim001",
         "number": "0",
         "oscorer": "None",
         "pitches": "pitches",
         "precip": "unknown",
         "save": "isrij001",
         "scorer": "None",
         "site": "STL09",
         "sky": "sunny",
         "starttime": "7:00PM",
         "temp": 73,
         "timeofgame": 194,
         "translator": "None",
         "ump1b": "laynj901",
         "ump2b": "tscht901",
         "ump3b": "barrt901",
         "umphome": "herna901",
         "usedh": "false",
         "visteam": "ARI",
         "winddir": "fromcf",
         "windspeed": 5,
         "wp": "fassj001",
         "_deepnote_index_column": 2481
        },
        {
         "attendance": 37729,
         "date": "2001-10-16",
         "daynight": "day",
         "edittime": "None",
         "fieldcond": "dry",
         "gwrbi": "None",
         "hometeam": "ARI",
         "howentered": "None",
         "howscored": "park",
         "id": "ARI200110160",
         "inputprogvers": "None",
         "inputter": "None",
         "inputtime": "None",
         "lp": "maddg002",
         "number": "0",
         "oscorer": "None",
         "pitches": "pitches",
         "precip": "none",
         "save": "None",
         "scorer": "None",
         "site": "PHO01",
         "sky": "dome",
         "starttime": "0:00PM",
         "temp": 72,
         "timeofgame": 164,
         "translator": "None",
         "ump1b": "kellj901",
         "ump2b": "herna901",
         "ump3b": "reilm901",
         "umphome": "crawj901",
         "usedh": "false",
         "visteam": "ATL",
         "winddir": "unknown",
         "windspeed": 0,
         "wp": "johnr005",
         "_deepnote_index_column": 2482
        },
        {
         "attendance": 49334,
         "date": "2001-10-17",
         "daynight": "night",
         "edittime": "None",
         "fieldcond": "unknown",
         "gwrbi": "None",
         "hometeam": "ARI",
         "howentered": "None",
         "howscored": "park",
         "id": "ARI200110170",
         "inputprogvers": "None",
         "inputter": "None",
         "inputtime": "None",
         "lp": "batim001",
         "number": "0",
         "oscorer": "None",
         "pitches": "pitches",
         "precip": "unknown",
         "save": "None",
         "scorer": "None",
         "site": "PHO01",
         "sky": "sunny",
         "starttime": "0:00PM",
         "temp": 89,
         "timeofgame": 174,
         "translator": "None",
         "ump1b": "herna901",
         "ump2b": "reilm901",
         "ump3b": "davig901",
         "umphome": "kellj901",
         "usedh": "false",
         "visteam": "ATL",
         "winddir": "ltor",
         "windspeed": 5,
         "wp": "glavt001",
         "_deepnote_index_column": 2483
        },
        {
         "attendance": 41624,
         "date": "2001-10-19",
         "daynight": "night",
         "edittime": "None",
         "fieldcond": "unknown",
         "gwrbi": "None",
         "hometeam": "ATL",
         "howentered": "None",
         "howscored": "park",
         "id": "ATL200110190",
         "inputprogvers": "None",
         "inputter": "None",
         "inputtime": "None",
         "lp": "burkj001",
         "number": "0",
         "oscorer": "None",
         "pitches": "pitches",
         "precip": "unknown",
         "save": "None",
         "scorer": "None",
         "site": "ATL02",
         "sky": "cloudy",
         "starttime": "0:00PM",
         "temp": 61,
         "timeofgame": 179,
         "translator": "None",
         "ump1b": "reilm901",
         "ump2b": "davig901",
         "ump3b": "mcclt901",
         "umphome": "herna901",
         "usedh": "false",
         "visteam": "ARI",
         "winddir": "rtol",
         "windspeed": 3,
         "wp": "schic002",
         "_deepnote_index_column": 2484
        },
        {
         "attendance": 54481,
         "date": "2000-10-10",
         "daynight": "night",
         "edittime": "None",
         "fieldcond": "unknown",
         "gwrbi": "None",
         "hometeam": "NYA",
         "howentered": "None",
         "howscored": "park",
         "id": "NYA200010100",
         "inputprogvers": "None",
         "inputter": "\"\"\"DWS\"\"\"",
         "inputtime": "None",
         "lp": "neagd001",
         "number": "0",
         "oscorer": "None",
         "pitches": "pitches",
         "precip": "unknown",
         "save": "sasak001",
         "scorer": "None",
         "site": "NYC16",
         "sky": "sunny",
         "starttime": "0:00PM",
         "temp": 47,
         "timeofgame": 225,
         "translator": "None",
         "ump1b": "herna901",
         "ump2b": "bellw901",
         "ump3b": "hirsm901",
         "umphome": "hirsj901",
         "usedh": "true",
         "visteam": "SEA",
         "winddir": "rtol",
         "windspeed": 10,
         "wp": "garcf002",
         "_deepnote_index_column": 2485
        },
        {
         "attendance": 55317,
         "date": "2000-10-11",
         "daynight": "day",
         "edittime": "None",
         "fieldcond": "unknown",
         "gwrbi": "None",
         "hometeam": "NYA",
         "howentered": "None",
         "howscored": "park",
         "id": "NYA200010110",
         "inputprogvers": "None",
         "inputter": "\"\"\"DWS\"\"\"",
         "inputtime": "None",
         "lp": "rhoda001",
         "number": "0",
         "oscorer": "None",
         "pitches": "pitches",
         "precip": "unknown",
         "save": "None",
         "scorer": "None",
         "site": "NYC16",
         "sky": "sunny",
         "starttime": "0:00PM",
         "temp": 65,
         "timeofgame": 216,
         "translator": "None",
         "ump1b": "bellw901",
         "ump2b": "hirsm901",
         "ump3b": "davig901",
         "umphome": "herna901",
         "usedh": "true",
         "visteam": "SEA",
         "winddir": "rtol",
         "windspeed": 5,
         "wp": "herno001",
         "_deepnote_index_column": 2486
        },
        {
         "attendance": 47803,
         "date": "2000-10-14",
         "daynight": "night",
         "edittime": "None",
         "fieldcond": "unknown",
         "gwrbi": "None",
         "hometeam": "SEA",
         "howentered": "None",
         "howscored": "park",
         "id": "SEA200010140",
         "inputprogvers": "None",
         "inputter": "\"\"\"DWS\"\"\"",
         "inputtime": "None",
         "lp": "abbop001",
         "number": "0",
         "oscorer": "None",
         "pitches": "pitches",
         "precip": "unknown",
         "save": "None",
         "scorer": "None",
         "site": "SEA03",
         "sky": "sunny",
         "starttime": "0:00PM",
         "temp": 56,
         "timeofgame": 179,
         "translator": "None",
         "ump1b": "davig901",
         "ump2b": "hirsj901",
         "ump3b": "herna901",
         "umphome": "bellw901",
         "usedh": "true",
         "visteam": "NYA",
         "winddir": "rtol",
         "windspeed": 3,
         "wp": "clemr001",
         "_deepnote_index_column": 2487
        },
        {
         "attendance": 47802,
         "date": "2000-10-15",
         "daynight": "day",
         "edittime": "None",
         "fieldcond": "unknown",
         "gwrbi": "None",
         "hometeam": "SEA",
         "howentered": "None",
         "howscored": "park",
         "id": "SEA200010150",
         "inputprogvers": "None",
         "inputter": "\"\"\"DWS\"\"\"",
         "inputtime": "None",
         "lp": "neagd001",
         "number": "0",
         "oscorer": "None",
         "pitches": "pitches",
         "precip": "unknown",
         "save": "None",
         "scorer": "None",
         "site": "SEA03",
         "sky": "overcast",
         "starttime": "0:00PM",
         "temp": 46,
         "timeofgame": 254,
         "translator": "None",
         "ump1b": "hirsj901",
         "ump2b": "herna901",
         "ump3b": "culbf901",
         "umphome": "davig901",
         "usedh": "true",
         "visteam": "NYA",
         "winddir": "tolf",
         "windspeed": 12,
         "wp": "garcf002",
         "_deepnote_index_column": 2488
        },
        {
         "attendance": 56598,
         "date": "2000-10-17",
         "daynight": "night",
         "edittime": "None",
         "fieldcond": "wet",
         "gwrbi": "None",
         "hometeam": "NYA",
         "howentered": "None",
         "howscored": "park",
         "id": "NYA200010170",
         "inputprogvers": "None",
         "inputter": "\"\"\"DWS\"\"\"",
         "inputtime": "None",
         "lp": "panij001",
         "number": "0",
         "oscorer": "None",
         "pitches": "pitches",
         "precip": "rain",
         "save": "None",
         "scorer": "None",
         "site": "NYC16",
         "sky": "overcast",
         "starttime": "8:14PM",
         "temp": 55,
         "timeofgame": 243,
         "translator": "None",
         "ump1b": "herna901",
         "ump2b": "culbf901",
         "ump3b": "hirsm901",
         "umphome": "hirsj901",
         "usedh": "true",
         "visteam": "SEA",
         "winddir": "ltor",
         "windspeed": 6,
         "wp": "herno001",
         "_deepnote_index_column": 2489
        },
        {
         "attendance": 39597,
         "date": "1998-10-03",
         "daynight": "night",
         "edittime": "None",
         "fieldcond": "unknown",
         "gwrbi": "None",
         "hometeam": "CHN",
         "howentered": "None",
         "howscored": "park",
         "id": "CHN199810030",
         "inputprogvers": "None",
         "inputter": "Stuart Shea",
         "inputtime": "None",
         "lp": "woodk002",
         "number": "0",
         "oscorer": "None",
         "pitches": "pitches",
         "precip": "none",
         "save": "None",
         "scorer": "Stuart Shea",
         "site": "CHI11",
         "sky": "overcast",
         "starttime": "6:30",
         "temp": 51,
         "timeofgame": 177,
         "translator": "None",
         "ump1b": "davib902",
         "ump2b": "froeb901",
         "ump3b": "herna901",
         "umphome": "darlg901",
         "usedh": "false",
         "visteam": "ATL",
         "winddir": "fromrf",
         "windspeed": 24,
         "wp": "maddg002",
         "_deepnote_index_column": 2490
        },
        {
         "attendance": 57188,
         "date": "1997-10-03",
         "daynight": "night",
         "edittime": "None",
         "fieldcond": "dry",
         "gwrbi": "None",
         "hometeam": "SFN",
         "howentered": "None",
         "howscored": "park",
         "id": "SFN199710030",
         "inputprogvers": "None",
         "inputter": "\"\"\"Michael Duca\"\"\"",
         "inputtime": "None",
         "lp": "alvaw001",
         "number": "0",
         "oscorer": "None",
         "pitches": "pitches",
         "precip": "none",
         "save": "None",
         "scorer": "\"\"\"Michael Duca\"\"\"",
         "site": "SFO02",
         "sky": "sunny",
         "starttime": "5:08",
         "temp": 68,
         "timeofgame": 202,
         "translator": "\"\"\"\"\"\"",
         "ump1b": "ripps901",
         "ump2b": "wendh901",
         "ump3b": "herna901",
         "umphome": "relic901",
         "usedh": "false",
         "visteam": "FLO",
         "winddir": "torf",
         "windspeed": 15,
         "wp": "ferna001",
         "_deepnote_index_column": 2491
        }
       ]
      },
      "text/plain": "      attendance        date daynight edittime fieldcond gwrbi hometeam  \\\n0          18007  2009-04-30    night     None   unknown  None      WAS   \n1          20697  2009-05-01    night     None   unknown  None      WAS   \n2          19950  2009-05-02      day     None   unknown  None      WAS   \n3          22556  2009-05-22    night     None   unknown  None      WAS   \n4          31833  2009-05-23    night     None   unknown  None      WAS   \n...          ...         ...      ...      ...       ...   ...      ...   \n2487       47803  2000-10-14    night     None   unknown  None      SEA   \n2488       47802  2000-10-15      day     None   unknown  None      SEA   \n2489       56598  2000-10-17    night     None       wet  None      NYA   \n2490       39597  1998-10-03    night     None   unknown  None      CHN   \n2491       57188  1997-10-03    night     None       dry  None      SFN   \n\n     howentered howscored            id  ... translator     ump1b     ump2b  \\\n0          None      park  WAS200904300  ...       None  welkt901  herna901   \n1          None      park  WAS200905010  ...       None  herna901  welkb901   \n2          None      park  WAS200905020  ...       None  welkb901  causk901   \n3          None      park  WAS200905220  ...       None  welkt901  reynj901   \n4          None      park  WAS200905230  ...       None  reynj901  herna901   \n...         ...       ...           ...  ...        ...       ...       ...   \n2487       None      park  SEA200010140  ...       None  davig901  hirsj901   \n2488       None      park  SEA200010150  ...       None  hirsj901  herna901   \n2489       None      park  NYA200010170  ...       None  herna901  culbf901   \n2490       None      park  CHN199810030  ...       None  davib902  froeb901   \n2491       None      park  SFN199710030  ...     \"\"\"\"\"\"  ripps901  wendh901   \n\n         ump3b   umphome  usedh visteam winddir windspeed        wp  \n0     welkb901  reynj901  false     SLN    rtol         5  perec002  \n1     causk901  welkt901  false     SLN    torf         8  wellt002  \n2     welkt901  herna901  false     SLN    ltor         5  marts001  \n3     herna901  welkb901  false     BAL    tolf         4  baezd001  \n4     welkb901  welkt901  false     BAL    tolf         4  bassb001  \n...        ...       ...    ...     ...     ...       ...       ...  \n2487  herna901  bellw901   true     NYA    rtol         3  clemr001  \n2488  culbf901  davig901   true     NYA    tolf        12  garcf002  \n2489  hirsm901  hirsj901   true     SEA    ltor         6  herno001  \n2490  herna901  darlg901  false     ATL  fromrf        24  maddg002  \n2491  herna901  relic901  false     FLO    torf        15  ferna001  \n\n[2492 rows x 35 columns]",
      "text/html": "<div>\n<style scoped>\n    .dataframe tbody tr th:only-of-type {\n        vertical-align: middle;\n    }\n\n    .dataframe tbody tr th {\n        vertical-align: top;\n    }\n\n    .dataframe thead th {\n        text-align: right;\n    }\n</style>\n<table border=\"1\" class=\"dataframe\">\n  <thead>\n    <tr style=\"text-align: right;\">\n      <th></th>\n      <th>attendance</th>\n      <th>date</th>\n      <th>daynight</th>\n      <th>edittime</th>\n      <th>fieldcond</th>\n      <th>gwrbi</th>\n      <th>hometeam</th>\n      <th>howentered</th>\n      <th>howscored</th>\n      <th>id</th>\n      <th>...</th>\n      <th>translator</th>\n      <th>ump1b</th>\n      <th>ump2b</th>\n      <th>ump3b</th>\n      <th>umphome</th>\n      <th>usedh</th>\n      <th>visteam</th>\n      <th>winddir</th>\n      <th>windspeed</th>\n      <th>wp</th>\n    </tr>\n  </thead>\n  <tbody>\n    <tr>\n      <th>0</th>\n      <td>18007</td>\n      <td>2009-04-30</td>\n      <td>night</td>\n      <td>None</td>\n      <td>unknown</td>\n      <td>None</td>\n      <td>WAS</td>\n      <td>None</td>\n      <td>park</td>\n      <td>WAS200904300</td>\n      <td>...</td>\n      <td>None</td>\n      <td>welkt901</td>\n      <td>herna901</td>\n      <td>welkb901</td>\n      <td>reynj901</td>\n      <td>false</td>\n      <td>SLN</td>\n      <td>rtol</td>\n      <td>5</td>\n      <td>perec002</td>\n    </tr>\n    <tr>\n      <th>1</th>\n      <td>20697</td>\n      <td>2009-05-01</td>\n      <td>night</td>\n      <td>None</td>\n      <td>unknown</td>\n      <td>None</td>\n      <td>WAS</td>\n      <td>None</td>\n      <td>park</td>\n      <td>WAS200905010</td>\n      <td>...</td>\n      <td>None</td>\n      <td>herna901</td>\n      <td>welkb901</td>\n      <td>causk901</td>\n      <td>welkt901</td>\n      <td>false</td>\n      <td>SLN</td>\n      <td>torf</td>\n      <td>8</td>\n      <td>wellt002</td>\n    </tr>\n    <tr>\n      <th>2</th>\n      <td>19950</td>\n      <td>2009-05-02</td>\n      <td>day</td>\n      <td>None</td>\n      <td>unknown</td>\n      <td>None</td>\n      <td>WAS</td>\n      <td>None</td>\n      <td>park</td>\n      <td>WAS200905020</td>\n      <td>...</td>\n      <td>None</td>\n      <td>welkb901</td>\n      <td>causk901</td>\n      <td>welkt901</td>\n      <td>herna901</td>\n      <td>false</td>\n      <td>SLN</td>\n      <td>ltor</td>\n      <td>5</td>\n      <td>marts001</td>\n    </tr>\n    <tr>\n      <th>3</th>\n      <td>22556</td>\n      <td>2009-05-22</td>\n      <td>night</td>\n      <td>None</td>\n      <td>unknown</td>\n      <td>None</td>\n      <td>WAS</td>\n      <td>None</td>\n      <td>park</td>\n      <td>WAS200905220</td>\n      <td>...</td>\n      <td>None</td>\n      <td>welkt901</td>\n      <td>reynj901</td>\n      <td>herna901</td>\n      <td>welkb901</td>\n      <td>false</td>\n      <td>BAL</td>\n      <td>tolf</td>\n      <td>4</td>\n      <td>baezd001</td>\n    </tr>\n    <tr>\n      <th>4</th>\n      <td>31833</td>\n      <td>2009-05-23</td>\n      <td>night</td>\n      <td>None</td>\n      <td>unknown</td>\n      <td>None</td>\n      <td>WAS</td>\n      <td>None</td>\n      <td>park</td>\n      <td>WAS200905230</td>\n      <td>...</td>\n      <td>None</td>\n      <td>reynj901</td>\n      <td>herna901</td>\n      <td>welkb901</td>\n      <td>welkt901</td>\n      <td>false</td>\n      <td>BAL</td>\n      <td>tolf</td>\n      <td>4</td>\n      <td>bassb001</td>\n    </tr>\n    <tr>\n      <th>...</th>\n      <td>...</td>\n      <td>...</td>\n      <td>...</td>\n      <td>...</td>\n      <td>...</td>\n      <td>...</td>\n      <td>...</td>\n      <td>...</td>\n      <td>...</td>\n      <td>...</td>\n      <td>...</td>\n      <td>...</td>\n      <td>...</td>\n      <td>...</td>\n      <td>...</td>\n      <td>...</td>\n      <td>...</td>\n      <td>...</td>\n      <td>...</td>\n      <td>...</td>\n      <td>...</td>\n    </tr>\n    <tr>\n      <th>2487</th>\n      <td>47803</td>\n      <td>2000-10-14</td>\n      <td>night</td>\n      <td>None</td>\n      <td>unknown</td>\n      <td>None</td>\n      <td>SEA</td>\n      <td>None</td>\n      <td>park</td>\n      <td>SEA200010140</td>\n      <td>...</td>\n      <td>None</td>\n      <td>davig901</td>\n      <td>hirsj901</td>\n      <td>herna901</td>\n      <td>bellw901</td>\n      <td>true</td>\n      <td>NYA</td>\n      <td>rtol</td>\n      <td>3</td>\n      <td>clemr001</td>\n    </tr>\n    <tr>\n      <th>2488</th>\n      <td>47802</td>\n      <td>2000-10-15</td>\n      <td>day</td>\n      <td>None</td>\n      <td>unknown</td>\n      <td>None</td>\n      <td>SEA</td>\n      <td>None</td>\n      <td>park</td>\n      <td>SEA200010150</td>\n      <td>...</td>\n      <td>None</td>\n      <td>hirsj901</td>\n      <td>herna901</td>\n      <td>culbf901</td>\n      <td>davig901</td>\n      <td>true</td>\n      <td>NYA</td>\n      <td>tolf</td>\n      <td>12</td>\n      <td>garcf002</td>\n    </tr>\n    <tr>\n      <th>2489</th>\n      <td>56598</td>\n      <td>2000-10-17</td>\n      <td>night</td>\n      <td>None</td>\n      <td>wet</td>\n      <td>None</td>\n      <td>NYA</td>\n      <td>None</td>\n      <td>park</td>\n      <td>NYA200010170</td>\n      <td>...</td>\n      <td>None</td>\n      <td>herna901</td>\n      <td>culbf901</td>\n      <td>hirsm901</td>\n      <td>hirsj901</td>\n      <td>true</td>\n      <td>SEA</td>\n      <td>ltor</td>\n      <td>6</td>\n      <td>herno001</td>\n    </tr>\n    <tr>\n      <th>2490</th>\n      <td>39597</td>\n      <td>1998-10-03</td>\n      <td>night</td>\n      <td>None</td>\n      <td>unknown</td>\n      <td>None</td>\n      <td>CHN</td>\n      <td>None</td>\n      <td>park</td>\n      <td>CHN199810030</td>\n      <td>...</td>\n      <td>None</td>\n      <td>davib902</td>\n      <td>froeb901</td>\n      <td>herna901</td>\n      <td>darlg901</td>\n      <td>false</td>\n      <td>ATL</td>\n      <td>fromrf</td>\n      <td>24</td>\n      <td>maddg002</td>\n    </tr>\n    <tr>\n      <th>2491</th>\n      <td>57188</td>\n      <td>1997-10-03</td>\n      <td>night</td>\n      <td>None</td>\n      <td>dry</td>\n      <td>None</td>\n      <td>SFN</td>\n      <td>None</td>\n      <td>park</td>\n      <td>SFN199710030</td>\n      <td>...</td>\n      <td>\"\"\"\"\"\"</td>\n      <td>ripps901</td>\n      <td>wendh901</td>\n      <td>herna901</td>\n      <td>relic901</td>\n      <td>false</td>\n      <td>FLO</td>\n      <td>torf</td>\n      <td>15</td>\n      <td>ferna001</td>\n    </tr>\n  </tbody>\n</table>\n<p>2492 rows × 35 columns</p>\n</div>"
     },
     "metadata": {}
    }
   ],
   "execution_count": null
  },
  {
   "cell_type": "markdown",
   "source": "## The Anvil related code\nFirst, setup...",
   "metadata": {
    "tags": [],
    "cell_id": "00005-c01791bf-54eb-4bf0-a826-b49925dff27b",
    "deepnote_cell_type": "markdown"
   }
  },
  {
   "cell_type": "code",
   "metadata": {
    "tags": [],
    "deepnote_to_be_reexecuted": false,
    "source_hash": "9fed7dfb",
    "execution_start": 1626138321902,
    "execution_millis": 4446,
    "cell_id": "00006-f1bdfe6a-7e6b-4953-9b1b-eef7eaa6b9cc",
    "deepnote_cell_type": "code"
   },
   "source": "# Anvil support\n!pip install anvil-uplink",
   "outputs": [
    {
     "name": "stdout",
     "text": "Collecting anvil-uplink\n  Downloading anvil_uplink-0.3.36-py2.py3-none-any.whl (61 kB)\n\u001b[K     |████████████████████████████████| 61 kB 12.8 MB/s \n\u001b[?25hRequirement already satisfied: six in /shared-libs/python3.7/py-core/lib/python3.7/site-packages (from anvil-uplink) (1.16.0)\nRequirement already satisfied: future in /shared-libs/python3.7/py/lib/python3.7/site-packages (from anvil-uplink) (0.18.2)\nCollecting argparse\n  Downloading argparse-1.4.0-py2.py3-none-any.whl (23 kB)\nCollecting ws4py\n  Downloading ws4py-0.5.1.tar.gz (51 kB)\n\u001b[K     |████████████████████████████████| 51 kB 447 kB/s \n\u001b[?25hBuilding wheels for collected packages: ws4py\n  Building wheel for ws4py (setup.py) ... \u001b[?25ldone\n\u001b[?25h  Created wheel for ws4py: filename=ws4py-0.5.1-py3-none-any.whl size=45229 sha256=b05382c3c44e66970fa42050d16f9f50998a9a72dab6dba06e81b5b89194b354\n  Stored in directory: /root/.cache/pip/wheels/29/ea/7d/3410aa0aa0e4402ead9a7a97ab2214804887e0f5c2b76f0c96\nSuccessfully built ws4py\nInstalling collected packages: ws4py, argparse, anvil-uplink\nSuccessfully installed anvil-uplink-0.3.36 argparse-1.4.0 ws4py-0.5.1\n\u001b[33mWARNING: You are using pip version 21.1.2; however, version 21.1.3 is available.\nYou should consider upgrading via the '/root/venv/bin/python -m pip install --upgrade pip' command.\u001b[0m\n",
     "output_type": "stream"
    }
   ],
   "execution_count": null
  },
  {
   "cell_type": "code",
   "metadata": {
    "tags": [],
    "deepnote_to_be_reexecuted": false,
    "source_hash": "4da5382a",
    "execution_start": 1626103147773,
    "execution_millis": 516,
    "cell_id": "00007-5848e05a-6067-4cab-a011-31b88f192bf1",
    "deepnote_cell_type": "code"
   },
   "source": "# Anvil support\nimport anvil.server\n## Anvile App Name: Basball_ETL_revXX\nanvil.server.connect(\"WDGE4M3M4GM76WCNOHG57ZR2-MEWRN2OBSOSTKIKH\")",
   "execution_count": null,
   "outputs": [
    {
     "name": "stdout",
     "text": "Connecting to wss://anvil.works/uplink\nAnvil websocket open\nConnected to \"Default environment (dev)\" as SERVER\n",
     "output_type": "stream"
    }
   ]
  },
  {
   "cell_type": "markdown",
   "source": "### Initialize for Anvil...",
   "metadata": {
    "tags": [],
    "cell_id": "00008-109e02d6-8ce0-470b-93d5-c2dc28b9f18b",
    "deepnote_cell_type": "markdown"
   }
  },
  {
   "cell_type": "code",
   "metadata": {
    "tags": [],
    "deepnote_to_be_reexecuted": false,
    "source_hash": "83bd9525",
    "execution_start": 1626103148291,
    "execution_millis": 350,
    "cell_id": "00009-152ef3b5-c019-4a6f-b296-a1d3be9cb0ae",
    "deepnote_cell_type": "code"
   },
   "source": "### Initialize things for the Anvil app\n\nimport anvil.media\n\numpireList = etlGetUmpireList() ",
   "execution_count": null,
   "outputs": []
  },
  {
   "cell_type": "markdown",
   "source": "### Anvil callable functions",
   "metadata": {
    "tags": [],
    "cell_id": "00010-06ba8d09-8231-44a6-b4d6-7e7b8b90ba74",
    "deepnote_cell_type": "markdown"
   }
  },
  {
   "cell_type": "code",
   "metadata": {
    "tags": [],
    "deepnote_to_be_reexecuted": false,
    "source_hash": "6533d0cd",
    "execution_start": 1626103148650,
    "execution_millis": 2,
    "cell_id": "00011-fc166be8-e993-45fb-91b7-40cd15e07bbe",
    "deepnote_cell_type": "code"
   },
   "source": "# Anvil support\n\n@anvil.server.callable\ndef anvilPlotShow():\n    image_name = pltShow()\n    returned_txt = \"Text returned from function.\"\n    return image_name, returned_txt\n\n@anvil.server.callable\ndef anvilGetImage(image_file):\n    return anvil.media.from_file(image_file)\n\n@anvil.server.callable\ndef anvilSqlSampleCsv():\n    sqlStmnt = \"SELECT * FROM umpire_info WHERE random() < .001\"\n    df = etlSqlToDf(sqlStmnt)\n    df.to_csv(\"/tmp/stats.csv\") \n    csv_media = anvil.media.from_file('/tmp/stats.csv', 'csv', 'stats.csv')\n    return csv_media\n\n@anvil.server.callable\ndef anvilUmpireCsv(umpID):\n    sqlStmnt = \"SELECT * FROM umpire_info WHERE umphome='\" + umpID + \"' or ump1b='\" + umpID + \"' or ump2b='\" + umpID + \"' or ump3b='\" + umpID +\"'\"\n    df = etlSqlToDf(sqlStmnt)\n    df.to_csv(\"/tmp/stats.csv\") \n    csv_media = anvil.media.from_file('/tmp/stats.csv', 'csv', 'stats.csv')\n    return csv_media\n\n@anvil.server.callable\ndef anvilReturnUmpireList():\n    \"\"\"\n    2021-07-11 (Ryan): There seems to be a problem passing too much data in a list to Anvil.\n        I'm limiting the number of items until it is resolved. See code above.\n    \"\"\"\n    return umpireList ##\n",
   "execution_count": null,
   "outputs": []
  },
  {
   "cell_type": "markdown",
   "source": "## End of Notebook",
   "metadata": {
    "tags": [],
    "cell_id": "00012-38d6caf6-d029-493b-a5fc-1b1695ae2104",
    "deepnote_cell_type": "markdown"
   }
  },
  {
   "cell_type": "markdown",
   "source": "<a style='text-decoration:none;line-height:16px;display:flex;color:#5B5B62;padding:10px;justify-content:end;' href='https://deepnote.com?utm_source=created-in-deepnote-cell&projectId=acb040b8-7d94-4cc1-9c6b-4e406d4a9288' target=\"_blank\">\n<img alt='Created in deepnote.com' style='display:inline;max-height:16px;margin:0px;margin-right:7.5px;' src='data:image/svg+xml;base64,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' > </img>\nCreated in <span style='font-weight:600;margin-left:4px;'>Deepnote</span></a>",
   "metadata": {
    "tags": [],
    "created_in_deepnote_cell": true,
    "deepnote_cell_type": "markdown"
   }
  }
 ],
 "nbformat": 4,
 "nbformat_minor": 2,
 "metadata": {
  "orig_nbformat": 2,
  "deepnote": {
   "is_reactive": false
  },
  "deepnote_notebook_id": "90558fa5-3113-4c08-92b0-905d084d7506",
  "deepnote_execution_queue": []
 }
}